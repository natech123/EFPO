{
 "cells": [
  {
   "cell_type": "code",
   "execution_count": 5,
   "id": "c77e49b5",
   "metadata": {},
   "outputs": [],
   "source": [
    "digits=\"1234567898765\""
   ]
  },
  {
   "cell_type": "code",
   "execution_count": 7,
   "id": "ce596d7f",
   "metadata": {},
   "outputs": [
    {
     "data": {
      "text/plain": [
       "12345"
      ]
     },
     "execution_count": 7,
     "metadata": {},
     "output_type": "execute_result"
    }
   ],
   "source": [
    "int(digits[:5])"
   ]
  },
  {
   "cell_type": "code",
   "execution_count": 12,
   "id": "969fce74",
   "metadata": {},
   "outputs": [
    {
     "name": "stdout",
     "output_type": "stream",
     "text": [
      "12345\n",
      "23456\n",
      "34567\n",
      "45678\n",
      "56789\n",
      "67898\n",
      "78987\n",
      "89876\n",
      "98765\n"
     ]
    },
    {
     "data": {
      "text/plain": [
       "98765"
      ]
     },
     "execution_count": 12,
     "metadata": {},
     "output_type": "execute_result"
    }
   ],
   "source": [
    "a=0\n",
    "for i in range(0,(len(digits)-4)):\n",
    "    print(digits[i:i+5])\n",
    "    if int(digits[i:i+5])>a:\n",
    "        a=int(digits[i:i+5])\n",
    "a"
   ]
  }
 ],
 "metadata": {
  "kernelspec": {
   "display_name": "Python 3 (ipykernel)",
   "language": "python",
   "name": "python3"
  },
  "language_info": {
   "codemirror_mode": {
    "name": "ipython",
    "version": 3
   },
   "file_extension": ".py",
   "mimetype": "text/x-python",
   "name": "python",
   "nbconvert_exporter": "python",
   "pygments_lexer": "ipython3",
   "version": "3.8.12"
  },
  "toc": {
   "base_numbering": 1,
   "nav_menu": {},
   "number_sections": true,
   "sideBar": true,
   "skip_h1_title": false,
   "title_cell": "Table of Contents",
   "title_sidebar": "Contents",
   "toc_cell": false,
   "toc_position": {},
   "toc_section_display": true,
   "toc_window_display": false
  }
 },
 "nbformat": 4,
 "nbformat_minor": 5
}
