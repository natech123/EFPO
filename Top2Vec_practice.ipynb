{
 "cells": [
  {
   "cell_type": "code",
   "execution_count": 81,
   "id": "d1e9a3a4",
   "metadata": {
    "scrolled": true
   },
   "outputs": [
    {
     "name": "stdout",
     "output_type": "stream",
     "text": [
      "The autoreload extension is already loaded. To reload it, use:\n",
      "  %reload_ext autoreload\n"
     ]
    }
   ],
   "source": [
    "%load_ext autoreload\n",
    "%autoreload 2"
   ]
  },
  {
   "cell_type": "code",
   "execution_count": 82,
   "id": "be2b1c90",
   "metadata": {
    "ExecuteTime": {
     "end_time": "2022-02-26T19:07:22.993030Z",
     "start_time": "2022-02-26T19:07:22.559751Z"
    },
    "id": "be2b1c90"
   },
   "outputs": [],
   "source": [
    "import pandas as pd \n",
    "from sklearn.metrics import silhouette_score as ssc\n",
    "import numpy as np"
   ]
  },
  {
   "cell_type": "code",
   "execution_count": 83,
   "id": "UGJpTKgSj2zt",
   "metadata": {
    "colab": {
     "base_uri": "https://localhost:8080/",
     "height": 35
    },
    "id": "UGJpTKgSj2zt",
    "outputId": "391fe19c-41dd-4f4a-a699-02c829366062"
   },
   "outputs": [],
   "source": [
    "from EFPO.preprocessing import Preprocessing\n",
    "from EFPO.get_data import Get_Data"
   ]
  },
  {
   "cell_type": "code",
   "execution_count": 84,
   "id": "3d6fd60c",
   "metadata": {
    "ExecuteTime": {
     "end_time": "2022-02-26T19:08:35.939686Z",
     "start_time": "2022-02-26T19:08:12.691621Z"
    },
    "id": "3d6fd60c",
    "scrolled": false
   },
   "outputs": [],
   "source": [
    "dfetch1 = Get_Data('ukraine','2022/03/01','2022/02/27','1000')"
   ]
  },
  {
   "cell_type": "code",
   "execution_count": 85,
   "id": "e7f6ae6c",
   "metadata": {},
   "outputs": [
    {
     "data": {
      "text/plain": [
       "'ukraine'"
      ]
     },
     "execution_count": 85,
     "metadata": {},
     "output_type": "execute_result"
    }
   ],
   "source": [
    "dfetch1.search"
   ]
  },
  {
   "cell_type": "code",
   "execution_count": 86,
   "id": "b23335fe",
   "metadata": {
    "scrolled": true
   },
   "outputs": [
    {
     "data": {
      "text/plain": [
       "<EFPO.get_data.Get_Data at 0x7fd1d1c3c2e0>"
      ]
     },
     "execution_count": 86,
     "metadata": {},
     "output_type": "execute_result"
    }
   ],
   "source": [
    "Get_Data('ukraine','01/03/2022','02/03/2022','1000')"
   ]
  },
  {
   "cell_type": "code",
   "execution_count": 126,
   "id": "ec80e4f7",
   "metadata": {
    "scrolled": true
   },
   "outputs": [],
   "source": [
    "firstsearch = Get_Data('ukraine','2022-02-02','2022-03-01',200)"
   ]
  },
  {
   "cell_type": "code",
   "execution_count": 122,
   "id": "610a94db",
   "metadata": {
    "scrolled": true
   },
   "outputs": [],
   "source": [
    "firstsearch.tweet_scrape()"
   ]
  },
  {
   "cell_type": "code",
   "execution_count": 124,
   "id": "907dde45",
   "metadata": {},
   "outputs": [
    {
     "name": "stderr",
     "output_type": "stream",
     "text": [
      "/home/coolyo/code/natech123/EFPO/EFPO/get_data.py:33: SettingWithCopyWarning: \n",
      "A value is trying to be set on a copy of a slice from a DataFrame\n",
      "\n",
      "See the caveats in the documentation: https://pandas.pydata.org/pandas-docs/stable/user_guide/indexing.html#returning-a-view-versus-a-copy\n",
      "  self.df.drop_duplicates(inplace=True)\n",
      "/home/coolyo/code/natech123/EFPO/EFPO/get_data.py:35: SettingWithCopyWarning: \n",
      "A value is trying to be set on a copy of a slice from a DataFrame\n",
      "\n",
      "See the caveats in the documentation: https://pandas.pydata.org/pandas-docs/stable/user_guide/indexing.html#returning-a-view-versus-a-copy\n",
      "  self.df.dropna(inplace = True)\n"
     ]
    }
   ],
   "source": [
    "firstsearch.simple_preproc()"
   ]
  },
  {
   "cell_type": "code",
   "execution_count": 125,
   "id": "18912234",
   "metadata": {
    "scrolled": true
   },
   "outputs": [
    {
     "data": {
      "text/html": [
       "<div>\n",
       "<style scoped>\n",
       "    .dataframe tbody tr th:only-of-type {\n",
       "        vertical-align: middle;\n",
       "    }\n",
       "\n",
       "    .dataframe tbody tr th {\n",
       "        vertical-align: top;\n",
       "    }\n",
       "\n",
       "    .dataframe thead th {\n",
       "        text-align: right;\n",
       "    }\n",
       "</style>\n",
       "<table border=\"1\" class=\"dataframe\">\n",
       "  <thead>\n",
       "    <tr style=\"text-align: right;\">\n",
       "      <th></th>\n",
       "      <th>Tweet</th>\n",
       "    </tr>\n",
       "  </thead>\n",
       "  <tbody>\n",
       "    <tr>\n",
       "      <th>0</th>\n",
       "      <td>Inside Volodymyr Velenskyy's rise to President...</td>\n",
       "    </tr>\n",
       "    <tr>\n",
       "      <th>2</th>\n",
       "      <td>It's a summer like day, 70F. I'm sitting outsi...</td>\n",
       "    </tr>\n",
       "    <tr>\n",
       "      <th>3</th>\n",
       "      <td>@wallaceme @GBNEWS It’s more deliberately pern...</td>\n",
       "    </tr>\n",
       "    <tr>\n",
       "      <th>4</th>\n",
       "      <td>Although the Australian Government has asked c...</td>\n",
       "    </tr>\n",
       "    <tr>\n",
       "      <th>5</th>\n",
       "      <td>Although @ausgov has asked citizens not to tra...</td>\n",
       "    </tr>\n",
       "    <tr>\n",
       "      <th>...</th>\n",
       "      <td>...</td>\n",
       "    </tr>\n",
       "    <tr>\n",
       "      <th>196</th>\n",
       "      <td>UPDATE: Regarding fighter jets for Ukraine. In...</td>\n",
       "    </tr>\n",
       "    <tr>\n",
       "      <th>197</th>\n",
       "      <td>We stand in solidarity with our Ukrainian coll...</td>\n",
       "    </tr>\n",
       "    <tr>\n",
       "      <th>198</th>\n",
       "      <td>More from Andrew: “Today the Bank of Russia an...</td>\n",
       "    </tr>\n",
       "    <tr>\n",
       "      <th>199</th>\n",
       "      <td>@NoMonkeyBusine4 @WiblyWoblyMoony @PalmerRepor...</td>\n",
       "    </tr>\n",
       "    <tr>\n",
       "      <th>200</th>\n",
       "      <td>@Antibac5 @SkyNews because belarus has chosen ...</td>\n",
       "    </tr>\n",
       "  </tbody>\n",
       "</table>\n",
       "<p>177 rows × 1 columns</p>\n",
       "</div>"
      ],
      "text/plain": [
       "                                                 Tweet\n",
       "0    Inside Volodymyr Velenskyy's rise to President...\n",
       "2    It's a summer like day, 70F. I'm sitting outsi...\n",
       "3    @wallaceme @GBNEWS It’s more deliberately pern...\n",
       "4    Although the Australian Government has asked c...\n",
       "5    Although @ausgov has asked citizens not to tra...\n",
       "..                                                 ...\n",
       "196  UPDATE: Regarding fighter jets for Ukraine. In...\n",
       "197  We stand in solidarity with our Ukrainian coll...\n",
       "198  More from Andrew: “Today the Bank of Russia an...\n",
       "199  @NoMonkeyBusine4 @WiblyWoblyMoony @PalmerRepor...\n",
       "200  @Antibac5 @SkyNews because belarus has chosen ...\n",
       "\n",
       "[177 rows x 1 columns]"
      ]
     },
     "execution_count": 125,
     "metadata": {},
     "output_type": "execute_result"
    }
   ],
   "source": [
    "firstsearch.df"
   ]
  },
  {
   "cell_type": "code",
   "execution_count": 129,
   "id": "d96a3cab",
   "metadata": {},
   "outputs": [
    {
     "ename": "AttributeError",
     "evalue": "'Get_Data' object has no attribute 'sentiment_analysis_preprocessing'",
     "output_type": "error",
     "traceback": [
      "\u001b[0;31m---------------------------------------------------------------------------\u001b[0m",
      "\u001b[0;31mAttributeError\u001b[0m                            Traceback (most recent call last)",
      "Input \u001b[0;32mIn [129]\u001b[0m, in \u001b[0;36m<cell line: 1>\u001b[0;34m()\u001b[0m\n\u001b[0;32m----> 1\u001b[0m \u001b[43mfirstsearch\u001b[49m\u001b[38;5;241;43m.\u001b[39;49m\u001b[43msentiment_analysis_preprocessing\u001b[49m()\n",
      "\u001b[0;31mAttributeError\u001b[0m: 'Get_Data' object has no attribute 'sentiment_analysis_preprocessing'"
     ]
    }
   ],
   "source": [
    "firstsearch.sentiment_analysis_preprocessing()"
   ]
  },
  {
   "cell_type": "code",
   "execution_count": null,
   "id": "b78868e2",
   "metadata": {
    "ExecuteTime": {
     "end_time": "2022-02-26T19:08:35.956115Z",
     "start_time": "2022-02-26T19:08:35.942108Z"
    },
    "colab": {
     "base_uri": "https://localhost:8080/"
    },
    "id": "b78868e2",
    "outputId": "a39f4d11-10a1-420f-87a0-b5647c787333"
   },
   "outputs": [],
   "source": [
    "df.columns"
   ]
  },
  {
   "cell_type": "code",
   "execution_count": 6,
   "id": "ffc1cc1b",
   "metadata": {
    "ExecuteTime": {
     "end_time": "2022-02-26T19:08:35.964720Z",
     "start_time": "2022-02-26T19:08:35.957764Z"
    },
    "colab": {
     "base_uri": "https://localhost:8080/"
    },
    "id": "ffc1cc1b",
    "outputId": "8aa42fa0-845d-4d68-a45e-64715d12dd50"
   },
   "outputs": [
    {
     "data": {
      "text/html": [
       "<div>\n",
       "<style scoped>\n",
       "    .dataframe tbody tr th:only-of-type {\n",
       "        vertical-align: middle;\n",
       "    }\n",
       "\n",
       "    .dataframe tbody tr th {\n",
       "        vertical-align: top;\n",
       "    }\n",
       "\n",
       "    .dataframe thead th {\n",
       "        text-align: right;\n",
       "    }\n",
       "</style>\n",
       "<table border=\"1\" class=\"dataframe\">\n",
       "  <thead>\n",
       "    <tr style=\"text-align: right;\">\n",
       "      <th></th>\n",
       "      <th>_type</th>\n",
       "      <th>url</th>\n",
       "      <th>date</th>\n",
       "      <th>replyCount</th>\n",
       "      <th>retweetCount</th>\n",
       "      <th>likeCount</th>\n",
       "      <th>quoteCount</th>\n",
       "      <th>conversationId</th>\n",
       "      <th>lang</th>\n",
       "      <th>content</th>\n",
       "    </tr>\n",
       "  </thead>\n",
       "  <tbody>\n",
       "    <tr>\n",
       "      <th>0</th>\n",
       "      <td>snscrape.modules.twitter.Tweet</td>\n",
       "      <td>https://twitter.com/SaBeRRaNgEr/status/1496998...</td>\n",
       "      <td>2022-02-24 23:59:59+00:00</td>\n",
       "      <td>1</td>\n",
       "      <td>0</td>\n",
       "      <td>0</td>\n",
       "      <td>0</td>\n",
       "      <td>1.500000e+18</td>\n",
       "      <td>en</td>\n",
       "      <td>@Global_Mil_Info Russia said they were going I...</td>\n",
       "    </tr>\n",
       "    <tr>\n",
       "      <th>1</th>\n",
       "      <td>snscrape.modules.twitter.Tweet</td>\n",
       "      <td>https://twitter.com/lips_open_up/status/149699...</td>\n",
       "      <td>2022-02-24 23:59:59+00:00</td>\n",
       "      <td>0</td>\n",
       "      <td>0</td>\n",
       "      <td>1</td>\n",
       "      <td>0</td>\n",
       "      <td>1.500000e+18</td>\n",
       "      <td>en</td>\n",
       "      <td>@globalpattern @liminalgarden stay safe (while...</td>\n",
       "    </tr>\n",
       "    <tr>\n",
       "      <th>2</th>\n",
       "      <td>snscrape.modules.twitter.Tweet</td>\n",
       "      <td>https://twitter.com/JeffMcCloud89/status/14969...</td>\n",
       "      <td>2022-02-24 23:59:59+00:00</td>\n",
       "      <td>0</td>\n",
       "      <td>0</td>\n",
       "      <td>2</td>\n",
       "      <td>0</td>\n",
       "      <td>1.500000e+18</td>\n",
       "      <td>en</td>\n",
       "      <td>@_kylayy_ @EricDJuly Okay, well Poland is part...</td>\n",
       "    </tr>\n",
       "    <tr>\n",
       "      <th>3</th>\n",
       "      <td>snscrape.modules.twitter.Tweet</td>\n",
       "      <td>https://twitter.com/slavicrya/status/149699837...</td>\n",
       "      <td>2022-02-24 23:59:59+00:00</td>\n",
       "      <td>0</td>\n",
       "      <td>0</td>\n",
       "      <td>5</td>\n",
       "      <td>0</td>\n",
       "      <td>1.500000e+18</td>\n",
       "      <td>en</td>\n",
       "      <td>Hope the people of Russia hold Their leader/s ...</td>\n",
       "    </tr>\n",
       "    <tr>\n",
       "      <th>4</th>\n",
       "      <td>snscrape.modules.twitter.Tweet</td>\n",
       "      <td>https://twitter.com/BabyMar68887098/status/149...</td>\n",
       "      <td>2022-02-24 23:59:59+00:00</td>\n",
       "      <td>0</td>\n",
       "      <td>0</td>\n",
       "      <td>1</td>\n",
       "      <td>0</td>\n",
       "      <td>1.500000e+18</td>\n",
       "      <td>en</td>\n",
       "      <td>Due to Covid ....#Ukraine #Russia war will be ...</td>\n",
       "    </tr>\n",
       "  </tbody>\n",
       "</table>\n",
       "</div>"
      ],
      "text/plain": [
       "                            _type  \\\n",
       "0  snscrape.modules.twitter.Tweet   \n",
       "1  snscrape.modules.twitter.Tweet   \n",
       "2  snscrape.modules.twitter.Tweet   \n",
       "3  snscrape.modules.twitter.Tweet   \n",
       "4  snscrape.modules.twitter.Tweet   \n",
       "\n",
       "                                                 url  \\\n",
       "0  https://twitter.com/SaBeRRaNgEr/status/1496998...   \n",
       "1  https://twitter.com/lips_open_up/status/149699...   \n",
       "2  https://twitter.com/JeffMcCloud89/status/14969...   \n",
       "3  https://twitter.com/slavicrya/status/149699837...   \n",
       "4  https://twitter.com/BabyMar68887098/status/149...   \n",
       "\n",
       "                        date  replyCount  retweetCount  likeCount  quoteCount  \\\n",
       "0  2022-02-24 23:59:59+00:00           1             0          0           0   \n",
       "1  2022-02-24 23:59:59+00:00           0             0          1           0   \n",
       "2  2022-02-24 23:59:59+00:00           0             0          2           0   \n",
       "3  2022-02-24 23:59:59+00:00           0             0          5           0   \n",
       "4  2022-02-24 23:59:59+00:00           0             0          1           0   \n",
       "\n",
       "   conversationId lang                                            content  \n",
       "0    1.500000e+18   en  @Global_Mil_Info Russia said they were going I...  \n",
       "1    1.500000e+18   en  @globalpattern @liminalgarden stay safe (while...  \n",
       "2    1.500000e+18   en  @_kylayy_ @EricDJuly Okay, well Poland is part...  \n",
       "3    1.500000e+18   en  Hope the people of Russia hold Their leader/s ...  \n",
       "4    1.500000e+18   en  Due to Covid ....#Ukraine #Russia war will be ...  "
      ]
     },
     "execution_count": 6,
     "metadata": {},
     "output_type": "execute_result"
    }
   ],
   "source": [
    "df.drop(columns=['Unnamed: 0','Unnamed: 4', 'Unnamed: 12'],inplace=True)\n",
    "df.head()"
   ]
  },
  {
   "cell_type": "code",
   "execution_count": 7,
   "id": "b3d39cb4",
   "metadata": {},
   "outputs": [
    {
     "ename": "NameError",
     "evalue": "name 'nltk' is not defined",
     "output_type": "error",
     "traceback": [
      "\u001b[0;31m---------------------------------------------------------------------------\u001b[0m",
      "\u001b[0;31mNameError\u001b[0m                                 Traceback (most recent call last)",
      "Input \u001b[0;32mIn [7]\u001b[0m, in \u001b[0;36m<cell line: 1>\u001b[0;34m()\u001b[0m\n\u001b[0;32m----> 1\u001b[0m \u001b[43mnltk\u001b[49m\u001b[38;5;241m.\u001b[39mdownload(\u001b[38;5;124m'\u001b[39m\u001b[38;5;124mwordnet\u001b[39m\u001b[38;5;124m'\u001b[39m)\n",
      "\u001b[0;31mNameError\u001b[0m: name 'nltk' is not defined"
     ]
    }
   ],
   "source": [
    "nltk.download('wordnet')"
   ]
  },
  {
   "cell_type": "code",
   "execution_count": null,
   "id": "1f9cdbad",
   "metadata": {},
   "outputs": [],
   "source": []
  },
  {
   "cell_type": "code",
   "execution_count": null,
   "id": "50fec82d",
   "metadata": {},
   "outputs": [],
   "source": [
    "for item in df['content']:\n",
    "    print(item)"
   ]
  },
  {
   "cell_type": "code",
   "execution_count": null,
   "id": "de22824b",
   "metadata": {},
   "outputs": [],
   "source": [
    "from nltk.stem import WordNetLemmatizer\n",
    "from nltk.tokenize import word_tokenize\n",
    "\n",
    "lemmatizer = WordNetLemmatizer()\n",
    "\n",
    "lem_list = []\n",
    "\n",
    "\n",
    "for item in df['content']:\n",
    "    word_tokens = word_tokenize(item)\n",
    "    text = [w for w in word_tokens] \n",
    "    lemmatized = [lemmatizer.lemmatize(word) for word in text]\n",
    "    lem_list.append(lemmatized)\n",
    "\n",
    "df['lemmatized'] = lem_list  \n"
   ]
  },
  {
   "cell_type": "code",
   "execution_count": null,
   "id": "38373169",
   "metadata": {},
   "outputs": [],
   "source": [
    "df['lemmatized'].head()"
   ]
  },
  {
   "cell_type": "code",
   "execution_count": null,
   "id": "dd214ce4",
   "metadata": {},
   "outputs": [],
   "source": [
    "from gensim.models import Word2Vec as wv"
   ]
  },
  {
   "cell_type": "code",
   "execution_count": null,
   "id": "e4343679",
   "metadata": {},
   "outputs": [],
   "source": [
    "wv.__dict__.keys()"
   ]
  },
  {
   "cell_type": "code",
   "execution_count": null,
   "id": "290c4732",
   "metadata": {},
   "outputs": [],
   "source": [
    "train_sentences, train_labels = tfds.as_numpy(train_data)\n",
    "test_sentences, test_labels = tfds.as_numpy(test_data)\n",
    "\n",
    "# Let's check two sentences\n",
    "train_sentences[0:2]\n"
   ]
  },
  {
   "cell_type": "code",
   "execution_count": null,
   "id": "913f4643",
   "metadata": {},
   "outputs": [],
   "source": [
    "from sklearn.model_selection import train_test_split"
   ]
  },
  {
   "cell_type": "code",
   "execution_count": null,
   "id": "25a418e7",
   "metadata": {},
   "outputs": [],
   "source": [
    "X_train,X_test = train_test_split(df['lemmatized'],test_size=0.2)"
   ]
  },
  {
   "cell_type": "code",
   "execution_count": null,
   "id": "0372d2c0",
   "metadata": {},
   "outputs": [],
   "source": [
    "modelwv = wv(sentences=X_train,min_count=5,size=128)"
   ]
  },
  {
   "cell_type": "code",
   "execution_count": null,
   "id": "c95423c9",
   "metadata": {},
   "outputs": [],
   "source": [
    "modelwv.most_similar('russia', topn=20)"
   ]
  },
  {
   "cell_type": "code",
   "execution_count": null,
   "id": "5f7994e1",
   "metadata": {},
   "outputs": [],
   "source": [
    "np.mean(modelwv.wv['ukraine']-modelwv.wv['russia'])"
   ]
  },
  {
   "cell_type": "code",
   "execution_count": null,
   "id": "dc8b56d5",
   "metadata": {
    "id": "dc8b56d5",
    "scrolled": false
   },
   "outputs": [],
   "source": [
    "import top2vec as tv\n",
    "import nltk \n"
   ]
  },
  {
   "cell_type": "code",
   "execution_count": null,
   "id": "60eed2c1",
   "metadata": {},
   "outputs": [],
   "source": [
    "from collections import Counter\n",
    "fram = df['content']\n",
    "spaces = []\n",
    "for i in range(len(df)):\n",
    "    counter = Counter(fram[i])\n",
    "    spaces.append(counter[' '])"
   ]
  },
  {
   "cell_type": "code",
   "execution_count": null,
   "id": "3aae1a7a",
   "metadata": {
    "scrolled": true
   },
   "outputs": [],
   "source": [
    "np.sum(spaces)"
   ]
  },
  {
   "cell_type": "code",
   "execution_count": null,
   "id": "6f2ae63c",
   "metadata": {},
   "outputs": [],
   "source": [
    "from collections import Counter\n",
    "fram = df['content']\n",
    "spaces = []\n",
    "for i in range(len(df)):\n",
    "    spaces.append(fram[i].lower().count('ukraine'))"
   ]
  },
  {
   "cell_type": "code",
   "execution_count": null,
   "id": "2b835548",
   "metadata": {},
   "outputs": [],
   "source": [
    "sum(spaces)"
   ]
  },
  {
   "cell_type": "code",
   "execution_count": null,
   "id": "9OeQiVOLkghq",
   "metadata": {
    "colab": {
     "base_uri": "https://localhost:8080/"
    },
    "id": "9OeQiVOLkghq",
    "outputId": "b640c149-4f14-4458-d040-b4fc4c93fd5c"
   },
   "outputs": [],
   "source": [
    "model = tv.Top2Vec(token_tweets, speed=\"deep-learn\", min_count=5, embedding_model=\"universal-sentence-encoder\")"
   ]
  },
  {
   "cell_type": "code",
   "execution_count": null,
   "id": "1fff004c",
   "metadata": {},
   "outputs": [],
   "source": [
    "tv.Top2Vec.__dict__.keys()"
   ]
  },
  {
   "cell_type": "code",
   "execution_count": null,
   "id": "702e2436",
   "metadata": {},
   "outputs": [],
   "source": [
    "model.get_num_topics()"
   ]
  },
  {
   "cell_type": "code",
   "execution_count": null,
   "id": "72802f38",
   "metadata": {},
   "outputs": [],
   "source": [
    "listax = list(model.topic_words[0])\n",
    "listox = list(model.topic_words[1])"
   ]
  },
  {
   "cell_type": "code",
   "execution_count": null,
   "id": "adba23e8",
   "metadata": {},
   "outputs": [],
   "source": [
    "listax"
   ]
  },
  {
   "cell_type": "code",
   "execution_count": null,
   "id": "6250829e",
   "metadata": {},
   "outputs": [],
   "source": [
    "listox"
   ]
  },
  {
   "cell_type": "code",
   "execution_count": null,
   "id": "9d3624e5",
   "metadata": {},
   "outputs": [],
   "source": [
    "ssc(model.topic_words[0].reshape(-1, 1),model.topic_words[1].reshape(-1, 1))"
   ]
  },
  {
   "cell_type": "code",
   "execution_count": null,
   "id": "b613899b",
   "metadata": {},
   "outputs": [],
   "source": [
    "dir(tv)"
   ]
  },
  {
   "cell_type": "code",
   "execution_count": null,
   "id": "a773f6bb",
   "metadata": {},
   "outputs": [],
   "source": [
    "tv.Top2Vec.__dict__.keys()"
   ]
  },
  {
   "cell_type": "code",
   "execution_count": null,
   "id": "ecae218f",
   "metadata": {},
   "outputs": [],
   "source": [
    "model.get_topics()"
   ]
  },
  {
   "cell_type": "code",
   "execution_count": null,
   "id": "e38bde45",
   "metadata": {},
   "outputs": [],
   "source": [
    "model.search_topics()"
   ]
  },
  {
   "cell_type": "code",
   "execution_count": null,
   "id": "6a0c1148",
   "metadata": {},
   "outputs": [],
   "source": [
    "model.search_topics(keywords=[\"zelensky\"],num_topics=2)"
   ]
  },
  {
   "cell_type": "code",
   "execution_count": null,
   "id": "nolLbETLp92-",
   "metadata": {
    "colab": {
     "base_uri": "https://localhost:8080/",
     "height": 296
    },
    "id": "nolLbETLp92-",
    "outputId": "8e432284-0793-4e2d-c451-950e155fe8fe"
   },
   "outputs": [],
   "source": [
    "#By doing this we could try to first isolate the 2 main sides:"
   ]
  },
  {
   "cell_type": "code",
   "execution_count": null,
   "id": "02d55c64",
   "metadata": {},
   "outputs": [],
   "source": [
    "model.get_topics()[0][0]"
   ]
  },
  {
   "cell_type": "code",
   "execution_count": null,
   "id": "60daae0e",
   "metadata": {},
   "outputs": [],
   "source": [
    "for item in model.get_topics()[0][0]:\n",
    "    print(item)"
   ]
  },
  {
   "cell_type": "code",
   "execution_count": null,
   "id": "oWSJyNRNp-zr",
   "metadata": {
    "colab": {
     "base_uri": "https://localhost:8080/"
    },
    "id": "oWSJyNRNp-zr",
    "outputId": "e7e00f57-a213-4212-a5b1-93c9c40ddc26",
    "scrolled": true
   },
   "outputs": [],
   "source": [
    "listax = list(model.get_topics()[0][0])\n",
    "listox = list(model.get_topics()[0][1])\n",
    "for item in listox:\n",
    "    if item in listax:\n",
    "        listax.remove(item)"
   ]
  },
  {
   "cell_type": "code",
   "execution_count": null,
   "id": "cafe2087",
   "metadata": {},
   "outputs": [],
   "source": [
    "listax"
   ]
  },
  {
   "cell_type": "code",
   "execution_count": null,
   "id": "b8073207",
   "metadata": {
    "scrolled": true
   },
   "outputs": [],
   "source": [
    "listox"
   ]
  },
  {
   "cell_type": "code",
   "execution_count": null,
   "id": "39144da9",
   "metadata": {},
   "outputs": [],
   "source": [
    "model.get_topics()[0][0].shape"
   ]
  },
  {
   "cell_type": "code",
   "execution_count": null,
   "id": "03ddbbe2",
   "metadata": {
    "scrolled": true
   },
   "outputs": [],
   "source": [
    "model.search_topics_by_vector(model.get_topics()[0][0],2)"
   ]
  },
  {
   "cell_type": "code",
   "execution_count": null,
   "id": "c3ed4a07",
   "metadata": {},
   "outputs": [],
   "source": [
    "for i in model.similar_words(keywords=listax, keywords_neg=listox, num_words=50)[0]:\n",
    "    print(i)"
   ]
  },
  {
   "cell_type": "code",
   "execution_count": null,
   "id": "41768034",
   "metadata": {},
   "outputs": [],
   "source": [
    "for i in model.similar_words(keywords=listox, keywords_neg=listax, num_words=50)[0]:\n",
    "    print(i)"
   ]
  },
  {
   "cell_type": "code",
   "execution_count": null,
   "id": "1Fk_mWWvruGw",
   "metadata": {
    "colab": {
     "base_uri": "https://localhost:8080/"
    },
    "id": "1Fk_mWWvruGw",
    "outputId": "75dbbfa8-647a-4d5b-e34b-5a4e4acdd475"
   },
   "outputs": [],
   "source": [
    "model.search_documents_by_topic(listax, num_docs=3)"
   ]
  },
  {
   "cell_type": "code",
   "execution_count": null,
   "id": "y8YObH9esA4l",
   "metadata": {
    "id": "y8YObH9esA4l"
   },
   "outputs": [],
   "source": [
    "topics = model.hierarchical_topic_reduction(num_topics=10)"
   ]
  },
  {
   "cell_type": "code",
   "execution_count": null,
   "id": "W4wQsIMrsTh-",
   "metadata": {
    "colab": {
     "base_uri": "https://localhost:8080/"
    },
    "id": "W4wQsIMrsTh-",
    "outputId": "1970c538-5d68-4e04-e909-788057049969"
   },
   "outputs": [],
   "source": [
    "model.topic_words_reduced[0]"
   ]
  },
  {
   "cell_type": "code",
   "execution_count": null,
   "id": "C-oRGcmwsbK8",
   "metadata": {
    "id": "C-oRGcmwsbK8"
   },
   "outputs": [],
   "source": [
    "from sklearn.metrics import silhouette_score"
   ]
  },
  {
   "cell_type": "code",
   "execution_count": null,
   "id": "bSm-4h_7sn2k",
   "metadata": {
    "colab": {
     "base_uri": "https://localhost:8080/"
    },
    "id": "bSm-4h_7sn2k",
    "outputId": "b17fea8e-3a10-4ca1-cda4-ebbff0c9e543"
   },
   "outputs": [],
   "source": [
    "len(model.topic_vectors_reduced[0])"
   ]
  },
  {
   "cell_type": "code",
   "execution_count": null,
   "id": "-H_BJ66C0hmr",
   "metadata": {
    "id": "-H_BJ66C0hmr"
   },
   "outputs": [],
   "source": [
    "features = [512] * 10"
   ]
  },
  {
   "cell_type": "code",
   "execution_count": null,
   "id": "nW0Ybla80tq4",
   "metadata": {
    "id": "nW0Ybla80tq4"
   },
   "outputs": [],
   "source": [
    "import numpy as np"
   ]
  },
  {
   "cell_type": "code",
   "execution_count": null,
   "id": "VFcl_BIx0Z6K",
   "metadata": {
    "id": "VFcl_BIx0Z6K"
   },
   "outputs": [],
   "source": [
    "array_features = np.array(features)"
   ]
  },
  {
   "cell_type": "code",
   "execution_count": null,
   "id": "0aBbANsQ0xPQ",
   "metadata": {
    "id": "0aBbANsQ0xPQ"
   },
   "outputs": [],
   "source": [
    "X = []\n",
    "for i in range(10): \n",
    "  X.append((topics[i], array_features[i]))"
   ]
  },
  {
   "cell_type": "code",
   "execution_count": null,
   "id": "7pb0yvo4uNMz",
   "metadata": {
    "id": "7pb0yvo4uNMz"
   },
   "outputs": [],
   "source": [
    "topic_index = []\n",
    "index = 0\n",
    "for x in topics:\n",
    "  topic_index.append(index)\n",
    "  index += 1"
   ]
  },
  {
   "cell_type": "code",
   "execution_count": null,
   "id": "QI4c5gYruiSv",
   "metadata": {
    "colab": {
     "base_uri": "https://localhost:8080/"
    },
    "id": "QI4c5gYruiSv",
    "outputId": "6305a27f-1ad3-42fd-a16b-65ae5dd913ce"
   },
   "outputs": [],
   "source": [
    "topic_index"
   ]
  },
  {
   "cell_type": "code",
   "execution_count": null,
   "id": "oTYatNVEsov4",
   "metadata": {
    "colab": {
     "base_uri": "https://localhost:8080/",
     "height": 329
    },
    "id": "oTYatNVEsov4",
    "outputId": "1a871ae2-aafa-4947-c13b-06c97a319e90"
   },
   "outputs": [],
   "source": [
    "silhouette_score(model.topic_vectors_reduced, labels = [0,2,3,4,5,6,7,8,9], metric= \"euclidean\",)"
   ]
  },
  {
   "cell_type": "code",
   "execution_count": null,
   "id": "7WY0zLu22INF",
   "metadata": {
    "colab": {
     "base_uri": "https://localhost:8080/",
     "height": 305
    },
    "id": "7WY0zLu22INF",
    "outputId": "ec33ddc5-98ff-42d8-ec3c-49ee3dac1792"
   },
   "outputs": [],
   "source": [
    "from yellowbrick.cluster import SilhouetteVisualizer"
   ]
  }
 ],
 "metadata": {
  "colab": {
   "name": "Top2Vec_practice.ipynb",
   "provenance": []
  },
  "kernelspec": {
   "display_name": "Python 3 (ipykernel)",
   "language": "python",
   "name": "python3"
  },
  "language_info": {
   "codemirror_mode": {
    "name": "ipython",
    "version": 3
   },
   "file_extension": ".py",
   "mimetype": "text/x-python",
   "name": "python",
   "nbconvert_exporter": "python",
   "pygments_lexer": "ipython3",
   "version": "3.8.12"
  },
  "toc": {
   "base_numbering": 1,
   "nav_menu": {},
   "number_sections": true,
   "sideBar": true,
   "skip_h1_title": false,
   "title_cell": "Table of Contents",
   "title_sidebar": "Contents",
   "toc_cell": false,
   "toc_position": {},
   "toc_section_display": true,
   "toc_window_display": true
  }
 },
 "nbformat": 4,
 "nbformat_minor": 5
}
