{
 "cells": [
  {
   "cell_type": "code",
   "execution_count": 1,
   "id": "a7898736",
   "metadata": {},
   "outputs": [],
   "source": [
    "%load_ext autoreload\n",
    "%autoreload 2"
   ]
  },
  {
   "cell_type": "code",
   "execution_count": 2,
   "id": "8eeea20c",
   "metadata": {},
   "outputs": [
    {
     "name": "stderr",
     "output_type": "stream",
     "text": [
      "2022-03-08 19:36:58.854444: W tensorflow/stream_executor/platform/default/dso_loader.cc:64] Could not load dynamic library 'libcudart.so.11.0'; dlerror: libcudart.so.11.0: cannot open shared object file: No such file or directory\n",
      "2022-03-08 19:36:58.854493: I tensorflow/stream_executor/cuda/cudart_stub.cc:29] Ignore above cudart dlerror if you do not have a GPU set up on your machine.\n",
      "[nltk_data] Downloading package stopwords to /home/fung/nltk_data...\n",
      "[nltk_data]   Package stopwords is already up-to-date!\n"
     ]
    }
   ],
   "source": [
    "import api"
   ]
  },
  {
   "cell_type": "code",
   "execution_count": 6,
   "id": "5387ea8f",
   "metadata": {},
   "outputs": [
    {
     "name": "stderr",
     "output_type": "stream",
     "text": [
      "2022-03-08 19:42:35,937 - top2vec - INFO - Pre-processing documents for training\n",
      "INFO:top2vec:Pre-processing documents for training\n",
      "/home/fung/.pyenv/versions/3.8.12/envs/EFPO/lib/python3.8/site-packages/sklearn/utils/deprecation.py:87: FutureWarning:\n",
      "\n",
      "Function get_feature_names is deprecated; get_feature_names is deprecated in 1.0 and will be removed in 1.2. Please use get_feature_names_out instead.\n",
      "\n",
      "2022-03-08 19:42:35,960 - top2vec - INFO - Downloading universal-sentence-encoder model\n",
      "INFO:top2vec:Downloading universal-sentence-encoder model\n"
     ]
    },
    {
     "name": "stdout",
     "output_type": "stream",
     "text": [
      "                                                 Tweet Lang\n",
      "0    #GO_Ukraine 🇺🇦\\n#GazetaOriental \\n#UkraineInva...   en\n",
      "1    @joncoopertweets @TrendingLiberal The average ...   en\n",
      "2    Now Joe Biden is begging dictators the world o...   en\n",
      "3    Get a better understanding of the war between ...   en\n",
      "4    @visegrad24 \"Secretary of State Antony Blinken...   en\n",
      "..                                                 ...  ...\n",
      "490  We are very proud to announce that Rhyl Comedy...   en\n",
      "492  YOOOOO!! Such a W Stream from beginning to end...   en\n",
      "493  @Kyiv for people in NL, there will be a stop t...   en\n",
      "495  Hello everyone, we wish you a pleasant Sunday ...   en\n",
      "500  #UkraineRussianWar #Ukraine #UkraineUnderAttaс...   en\n",
      "\n",
      "[388 rows x 2 columns]\n"
     ]
    },
    {
     "name": "stderr",
     "output_type": "stream",
     "text": [
      "2022-03-08 19:42:39,174 - top2vec - INFO - Creating joint document/word embedding\n",
      "INFO:top2vec:Creating joint document/word embedding\n",
      "2022-03-08 19:42:39,408 - top2vec - INFO - Creating lower dimension embedding of documents\n",
      "INFO:top2vec:Creating lower dimension embedding of documents\n",
      "2022-03-08 19:42:41,303 - top2vec - INFO - Finding dense areas of documents\n",
      "INFO:top2vec:Finding dense areas of documents\n",
      "2022-03-08 19:42:41,313 - top2vec - INFO - Finding topics\n",
      "INFO:top2vec:Finding topics\n"
     ]
    },
    {
     "data": {
      "text/html": [
       "<div>\n",
       "<style scoped>\n",
       "    .dataframe tbody tr th:only-of-type {\n",
       "        vertical-align: middle;\n",
       "    }\n",
       "\n",
       "    .dataframe tbody tr th {\n",
       "        vertical-align: top;\n",
       "    }\n",
       "\n",
       "    .dataframe thead th {\n",
       "        text-align: right;\n",
       "    }\n",
       "</style>\n",
       "<table border=\"1\" class=\"dataframe\">\n",
       "  <thead>\n",
       "    <tr style=\"text-align: right;\">\n",
       "      <th></th>\n",
       "      <th>Tweet</th>\n",
       "    </tr>\n",
       "  </thead>\n",
       "  <tbody>\n",
       "    <tr>\n",
       "      <th>0</th>\n",
       "      <td>#GO_Ukraine 🇺🇦\\n#GazetaOriental \\n#UkraineInva...</td>\n",
       "    </tr>\n",
       "    <tr>\n",
       "      <th>1</th>\n",
       "      <td>@joncoopertweets @TrendingLiberal The average ...</td>\n",
       "    </tr>\n",
       "    <tr>\n",
       "      <th>2</th>\n",
       "      <td>Now Joe Biden is begging dictators the world o...</td>\n",
       "    </tr>\n",
       "    <tr>\n",
       "      <th>3</th>\n",
       "      <td>Get a better understanding of the war between ...</td>\n",
       "    </tr>\n",
       "    <tr>\n",
       "      <th>4</th>\n",
       "      <td>@visegrad24 \"Secretary of State Antony Blinken...</td>\n",
       "    </tr>\n",
       "    <tr>\n",
       "      <th>...</th>\n",
       "      <td>...</td>\n",
       "    </tr>\n",
       "    <tr>\n",
       "      <th>490</th>\n",
       "      <td>We are very proud to announce that Rhyl Comedy...</td>\n",
       "    </tr>\n",
       "    <tr>\n",
       "      <th>492</th>\n",
       "      <td>YOOOOO!! Such a W Stream from beginning to end...</td>\n",
       "    </tr>\n",
       "    <tr>\n",
       "      <th>493</th>\n",
       "      <td>@Kyiv for people in NL, there will be a stop t...</td>\n",
       "    </tr>\n",
       "    <tr>\n",
       "      <th>495</th>\n",
       "      <td>Hello everyone, we wish you a pleasant Sunday ...</td>\n",
       "    </tr>\n",
       "    <tr>\n",
       "      <th>500</th>\n",
       "      <td>#UkraineRussianWar #Ukraine #UkraineUnderAttaс...</td>\n",
       "    </tr>\n",
       "  </tbody>\n",
       "</table>\n",
       "<p>387 rows × 1 columns</p>\n",
       "</div>"
      ],
      "text/plain": [
       "                                                 Tweet\n",
       "0    #GO_Ukraine 🇺🇦\\n#GazetaOriental \\n#UkraineInva...\n",
       "1    @joncoopertweets @TrendingLiberal The average ...\n",
       "2    Now Joe Biden is begging dictators the world o...\n",
       "3    Get a better understanding of the war between ...\n",
       "4    @visegrad24 \"Secretary of State Antony Blinken...\n",
       "..                                                 ...\n",
       "490  We are very proud to announce that Rhyl Comedy...\n",
       "492  YOOOOO!! Such a W Stream from beginning to end...\n",
       "493  @Kyiv for people in NL, there will be a stop t...\n",
       "495  Hello everyone, we wish you a pleasant Sunday ...\n",
       "500  #UkraineRussianWar #Ukraine #UkraineUnderAttaс...\n",
       "\n",
       "[387 rows x 1 columns]"
      ]
     },
     "execution_count": 6,
     "metadata": {},
     "output_type": "execute_result"
    }
   ],
   "source": [
    "api.predict(\"Ukraine\",\"2022-03-01\",\"2022-03-07\",500)"
   ]
  },
  {
   "cell_type": "code",
   "execution_count": null,
   "id": "c25ff0cc",
   "metadata": {},
   "outputs": [],
   "source": []
  },
  {
   "cell_type": "code",
   "execution_count": null,
   "id": "c0a1fc7d",
   "metadata": {},
   "outputs": [],
   "source": []
  },
  {
   "cell_type": "code",
   "execution_count": null,
   "id": "9d756a42",
   "metadata": {},
   "outputs": [],
   "source": []
  },
  {
   "cell_type": "code",
   "execution_count": null,
   "id": "cc266e75",
   "metadata": {},
   "outputs": [],
   "source": []
  },
  {
   "cell_type": "code",
   "execution_count": 11,
   "id": "61b49182",
   "metadata": {},
   "outputs": [],
   "source": [
    "import pandas as pd"
   ]
  },
  {
   "cell_type": "code",
   "execution_count": 1,
   "id": "28db935b",
   "metadata": {},
   "outputs": [],
   "source": [
    "import requests"
   ]
  },
  {
   "cell_type": "code",
   "execution_count": 4,
   "id": "6e599b69",
   "metadata": {},
   "outputs": [],
   "source": [
    "param={\"search\":\"Ukraine\",\"date_beg\":\"2022-03-01\",\"date_end\":\"2022-03-07\",\"number\":500}"
   ]
  },
  {
   "cell_type": "code",
   "execution_count": 5,
   "id": "77dc405b",
   "metadata": {},
   "outputs": [],
   "source": [
    "response=requests.get(\"https://efpoimagename3-4n5leuorga-ew.a.run.app\",params=param)"
   ]
  },
  {
   "cell_type": "code",
   "execution_count": 18,
   "id": "1af29894",
   "metadata": {},
   "outputs": [],
   "source": [
    "df=pd.DataFrame(data=response.json()['Tweet'].values(),columns=[\"Tweet\"])"
   ]
  }
 ],
 "metadata": {
  "kernelspec": {
   "display_name": "Python 3 (ipykernel)",
   "language": "python",
   "name": "python3"
  },
  "language_info": {
   "codemirror_mode": {
    "name": "ipython",
    "version": 3
   },
   "file_extension": ".py",
   "mimetype": "text/x-python",
   "name": "python",
   "nbconvert_exporter": "python",
   "pygments_lexer": "ipython3",
   "version": "3.8.12"
  },
  "toc": {
   "base_numbering": 1,
   "nav_menu": {},
   "number_sections": true,
   "sideBar": true,
   "skip_h1_title": false,
   "title_cell": "Table of Contents",
   "title_sidebar": "Contents",
   "toc_cell": false,
   "toc_position": {},
   "toc_section_display": true,
   "toc_window_display": false
  }
 },
 "nbformat": 4,
 "nbformat_minor": 5
}
