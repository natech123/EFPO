{
 "cells": [
  {
   "cell_type": "code",
   "execution_count": 1,
   "id": "a7898736",
   "metadata": {},
   "outputs": [],
   "source": [
    "%load_ext autoreload\n",
    "%autoreload 2"
   ]
  },
  {
   "cell_type": "code",
   "execution_count": 3,
   "id": "8eeea20c",
   "metadata": {},
   "outputs": [
    {
     "name": "stderr",
     "output_type": "stream",
     "text": [
      "2022-03-11 03:17:31.334194: W tensorflow/stream_executor/platform/default/dso_loader.cc:64] Could not load dynamic library 'libcudart.so.11.0'; dlerror: libcudart.so.11.0: cannot open shared object file: No such file or directory\n",
      "2022-03-11 03:17:31.334231: I tensorflow/stream_executor/cuda/cudart_stub.cc:29] Ignore above cudart dlerror if you do not have a GPU set up on your machine.\n",
      "[nltk_data] Downloading package stopwords to /home/fung/nltk_data...\n",
      "[nltk_data]   Package stopwords is already up-to-date!\n"
     ]
    }
   ],
   "source": [
    "import api"
   ]
  },
  {
   "cell_type": "code",
   "execution_count": 4,
   "id": "5387ea8f",
   "metadata": {},
   "outputs": [
    {
     "name": "stderr",
     "output_type": "stream",
     "text": [
      "2022-03-11 03:17:43,856 - top2vec - INFO - Pre-processing documents for training\n",
      "/home/fung/.pyenv/versions/3.8.12/envs/EFPO/lib/python3.8/site-packages/sklearn/utils/deprecation.py:87: FutureWarning: Function get_feature_names is deprecated; get_feature_names is deprecated in 1.0 and will be removed in 1.2. Please use get_feature_names_out instead.\n",
      "  warnings.warn(msg, category=FutureWarning)\n",
      "2022-03-11 03:17:43,859 - top2vec - INFO - Downloading universal-sentence-encoder model\n"
     ]
    },
    {
     "name": "stdout",
     "output_type": "stream",
     "text": [
      "Index(['Tweet', 'Lang'], dtype='object')                                                 Tweet Lang\n",
      "0   @chrstnerode Naaaaw you’ve lived in the Nether...   en\n",
      "1   @NewYorkNixon Sounds like a Google interview q...   en\n",
      "2                                         #TeamWheels  und\n",
      "3                             @vanderlawn #TeamWheels  und\n",
      "4   @BayeOA I’m defs #TeamWheels just saying plent...   en\n",
      "..                                                ...  ...\n",
      "78  @dotzwheels Revvo Dark in 20 Zoll mit 245/30/2...   de\n",
      "79  @borbet_wheels LX graphite spoke rim red polis...   de\n",
      "80  🗣#VoteForRuf🗣\\n\\n@rufus_mclean has been nomina...   en\n",
      "81                #TeamWheels https://t.co/34nBr6WOXg  und\n",
      "82  I Dont Give A Fuck Who Coming But Its #TeamWhe...   en\n",
      "\n",
      "[83 rows x 2 columns]\n"
     ]
    },
    {
     "name": "stderr",
     "output_type": "stream",
     "text": [
      "2022-03-11 03:17:43.956519: E tensorflow/stream_executor/cuda/cuda_driver.cc:271] failed call to cuInit: UNKNOWN ERROR (304)\n",
      "2022-03-11 03:17:43.956579: I tensorflow/stream_executor/cuda/cuda_diagnostics.cc:156] kernel driver does not appear to be running on this host (DESKTOP-OQ3QMKM): /proc/driver/nvidia/version does not exist\n",
      "2022-03-11 03:17:43.956842: I tensorflow/core/platform/cpu_feature_guard.cc:151] This TensorFlow binary is optimized with oneAPI Deep Neural Network Library (oneDNN) to use the following CPU instructions in performance-critical operations:  AVX2 AVX512F FMA\n",
      "To enable them in other operations, rebuild TensorFlow with the appropriate compiler flags.\n",
      "2022-03-11 03:17:46,644 - top2vec - INFO - Creating joint document/word embedding\n",
      "INFO:top2vec:Creating joint document/word embedding\n",
      "2022-03-11 03:17:46,868 - top2vec - INFO - Creating lower dimension embedding of documents\n",
      "INFO:top2vec:Creating lower dimension embedding of documents\n",
      "2022-03-11 03:17:51,335 - top2vec - INFO - Finding dense areas of documents\n",
      "INFO:top2vec:Finding dense areas of documents\n",
      "2022-03-11 03:17:51,340 - top2vec - INFO - Finding topics\n",
      "INFO:top2vec:Finding topics\n"
     ]
    },
    {
     "name": "stdout",
     "output_type": "stream",
     "text": [
      "UMAP(learning_rate=0.1, n_components=3, n_epochs=10000, random_state=42, tqdm_kwds={'bar_format': '{desc}: {percentage:3.0f}%| {bar} {n_fmt}/{total_fmt} [{elapsed}]', 'desc': 'Epochs completed', 'disable': True}) <class 'umap.umap_.UMAP'>\n",
      "computation complete\n"
     ]
    }
   ],
   "source": [
    "result=api.predict(\"teamwheels\",\"2021-03-01\",\"2022-03-07\",500)"
   ]
  },
  {
   "cell_type": "code",
   "execution_count": 5,
   "id": "49bd7a64",
   "metadata": {},
   "outputs": [
    {
     "data": {
      "text/plain": [
       "[['neutral', 'neutral', 'neutral', 'neutral', 'neutral'],\n",
       " ['neutral', 'neutral', 'positive', 'neutral', 'neutral']]"
      ]
     },
     "execution_count": 5,
     "metadata": {},
     "output_type": "execute_result"
    }
   ],
   "source": [
    "result[7]"
   ]
  },
  {
   "cell_type": "code",
   "execution_count": 6,
   "id": "cc4f7afd",
   "metadata": {},
   "outputs": [
    {
     "data": {
      "text/plain": [
       "[['Are there more doors or wheels in the world? #teamwheels',\n",
       "  'there are more wheels than doors in the world\\n#teamwheels',\n",
       "  'Wheels by far now that I think about it. Luggage, toys, drawers, wheelchairs, bicycles. #TeamWheels pls https://t.co/TPhIJ7IABY',\n",
       "  '@NewYorkNixon @LEGO_Group makes 100s of millions of tyres a year. I reckon those tyres all go on Lego wheels and I bet they make waaay more wheels than doors.\\n\\n#teamwheels\\n\\nhttps://t.co/DLbZsRrRyb',\n",
       "  '@Aimdiddles @carmenello86 @JennaGuillaume My kitchen has more wheels than doors. Every drawer has a wheels as part of the opening mechanism #teamwheels'],\n",
       " ['@chaseman91 @lukerbroussard Okay yeah I’m convinced. #teamwheels',\n",
       "  '@PacePicante #TeamWheels and idc who knows',\n",
       "  '@subcide Hahaha #TeamWheels welcomes you',\n",
       "  'Any excuse to watch this again ⚡️⚡️@rufus_mclean #TeamWheels https://t.co/GhwUKjmIDG',\n",
       "  '@cicc242 @davidblattman @Justalexbennett Thank you ryan. Educate these fools #teamwheels']]"
      ]
     },
     "execution_count": 6,
     "metadata": {},
     "output_type": "execute_result"
    }
   ],
   "source": [
    "result[6]"
   ]
  },
  {
   "cell_type": "code",
   "execution_count": null,
   "id": "2c34e040",
   "metadata": {},
   "outputs": [],
   "source": []
  },
  {
   "cell_type": "code",
   "execution_count": null,
   "id": "01726e82",
   "metadata": {},
   "outputs": [],
   "source": []
  },
  {
   "cell_type": "code",
   "execution_count": null,
   "id": "a13393bc",
   "metadata": {},
   "outputs": [],
   "source": []
  },
  {
   "cell_type": "code",
   "execution_count": null,
   "id": "f81c75e2",
   "metadata": {},
   "outputs": [],
   "source": []
  },
  {
   "cell_type": "code",
   "execution_count": null,
   "id": "f6b77022",
   "metadata": {},
   "outputs": [],
   "source": []
  },
  {
   "cell_type": "code",
   "execution_count": 4,
   "id": "c0a1fc7d",
   "metadata": {},
   "outputs": [],
   "source": [
    "from EFPO.the_almighty import *"
   ]
  },
  {
   "cell_type": "code",
   "execution_count": null,
   "id": "9d756a42",
   "metadata": {},
   "outputs": [
    {
     "name": "stderr",
     "output_type": "stream",
     "text": [
      "2022-03-11 03:15:44,167 - top2vec - INFO - Pre-processing documents for training\n",
      "INFO:top2vec:Pre-processing documents for training\n",
      "/home/fung/.pyenv/versions/3.8.12/envs/EFPO/lib/python3.8/site-packages/sklearn/utils/deprecation.py:87: FutureWarning: Function get_feature_names is deprecated; get_feature_names is deprecated in 1.0 and will be removed in 1.2. Please use get_feature_names_out instead.\n",
      "  warnings.warn(msg, category=FutureWarning)\n",
      "2022-03-11 03:15:44,187 - top2vec - INFO - Downloading universal-sentence-encoder model\n",
      "INFO:top2vec:Downloading universal-sentence-encoder model\n"
     ]
    },
    {
     "name": "stdout",
     "output_type": "stream",
     "text": [
      "Index(['Tweet', 'Lang'], dtype='object')                                                  Tweet Lang\n",
      "0    @NickCeausescu @CTVNews that POS Victoria Nudl...   en\n",
      "1    @KyivIndependent Syrians don’t know sh)(&amp; ...   en\n",
      "2    Kourtney Kardashian, thousands others agree wi...   en\n",
      "3    @Darkness754 Sie kritisieren deutsches Politik...   de\n",
      "4    @marcorubio The only thing that make sense in ...   en\n",
      "..                                                 ...  ...\n",
      "497  Netflix interrupts its service in Russia in pr...   en\n",
      "498  @rubencbm_ruben @nytimes At least UN and NATO ...   en\n",
      "499  As a Ukrainian currently in Ukraine, it's the ...   en\n",
      "500                Go, Ukraine https://t.co/XgYVbDcNUX   en\n",
      "501  Αγία Πετρούπολη \\n#Ουκρανία #Ukraine https://t...   el\n",
      "\n",
      "[502 rows x 2 columns]\n"
     ]
    }
   ],
   "source": [
    "model=EFPO_Model(\"Ukraine\",\"2022-03-01\",\"2022-03-07\",500)\n",
    "model.generate_data()\n",
    "model.top2vec_fit()"
   ]
  },
  {
   "cell_type": "code",
   "execution_count": null,
   "id": "a1021b1e",
   "metadata": {},
   "outputs": [],
   "source": [
    "model.top2vec_visualisation()"
   ]
  },
  {
   "cell_type": "code",
   "execution_count": null,
   "id": "51a7c358",
   "metadata": {},
   "outputs": [],
   "source": []
  },
  {
   "cell_type": "code",
   "execution_count": null,
   "id": "ac908f54",
   "metadata": {},
   "outputs": [],
   "source": []
  },
  {
   "cell_type": "code",
   "execution_count": null,
   "id": "768bcac6",
   "metadata": {},
   "outputs": [],
   "source": []
  },
  {
   "cell_type": "code",
   "execution_count": null,
   "id": "545b0f51",
   "metadata": {},
   "outputs": [],
   "source": []
  },
  {
   "cell_type": "code",
   "execution_count": 2,
   "id": "61b49182",
   "metadata": {},
   "outputs": [],
   "source": [
    "import pandas as pd"
   ]
  },
  {
   "cell_type": "code",
   "execution_count": 3,
   "id": "28db935b",
   "metadata": {},
   "outputs": [],
   "source": [
    "import requests"
   ]
  },
  {
   "cell_type": "code",
   "execution_count": 4,
   "id": "8de875c1",
   "metadata": {},
   "outputs": [],
   "source": [
    "param={\"search\":\"Ukraine\",\"date_beg\":\"2022-03-01\",\"date_end\":\"2022-03-07\",\"number\":500}\n",
    "\n",
    "response=requests.get(\"https://efpoimagename13-4n5leuorga-ew.a.run.app\",params=param)\n",
    "\n"
   ]
  },
  {
   "cell_type": "code",
   "execution_count": 6,
   "id": "d9c25856",
   "metadata": {},
   "outputs": [
    {
     "data": {
      "text/plain": [
       "[['neutral', 'neutral', 'neutral', 'neutral', 'neutral'],\n",
       " ['neutral', 'neutral', 'neutral', 'neutral', 'neutral']]"
      ]
     },
     "execution_count": 6,
     "metadata": {},
     "output_type": "execute_result"
    }
   ],
   "source": [
    "response.json()[7]"
   ]
  },
  {
   "cell_type": "code",
   "execution_count": 8,
   "id": "cf821142",
   "metadata": {},
   "outputs": [
    {
     "data": {
      "text/plain": [
       "[['Why is Russia invading Ukraine?\\n\\nhttps://t.co/2RtthTkD4A\\n\\n#StandWithUkraine #UkraineUnderAttaсk #UkraineInvaded #UkraineRussianWar \\n\\n#PutinWarCrimes #PutinTerrorist #PutinHitlerWarCriminal #Putin #war #PutinWarCriminal',\n",
       "  'I can’t help but think … Russia will never have the people of Ukraine',\n",
       "  '#GO_Ukraine 🇺🇦\\n#GazetaOriental \\n#UkraineInvasion\\n#UkraineRussiaWar\\n\\nWar of Ukraine 2022\\n\\n07.03.2022 00.00\\n\\nCASUALITIES https://t.co/aHQFk03L1B',\n",
       "  '@StewartMcDonald @NicolaSturgeon Bravery of the Ukraine people to defend each other and their homeland. Is only eclipsed by the outright Cowardice of Putin and his Yes men, in the Kremlin. Russian Police are beating up Ukraine War Protesters with their boots, batons and locking them up! For telling the Truth!',\n",
       "  \"@BRNDNLGH @Momo95889808 @nexta_tv Fascism is bad, fascists deserve to die whether Russia does it or Ukraine does it, I'm a Turk, what happened in Ukraine saddens me, but Putin is right, I support him until the end\"],\n",
       " ['@FerrisLasko @ViewsPlusNews @Liz_Cheney So you think that all russia want is for Ukraine to stay out of NATO. Really?',\n",
       "  '@BrianMcL6 @BartongibNigel @nicola_orru @zayadine @mattfrei if they rejected it,it’d call their bluff and reveal the ‘nato are menacing us’ reason they give for invading  ukraine is the pile of pish it likely is. NATO was never going to invade a nuclear power like Russia no matter how tight to their borders they got.',\n",
       "  '@Francesco0996 Nato Sending warjets to ukraine\\nWw3? \\nPutin says if send jets...',\n",
       "  '@Quester111 @Lorovolo @allesgoenner @InfraHaz Joining NATO garuntees invasion. There was no Russian invasions nor conflict with Ukraine pre-2014. In fact they were very much allies.',\n",
       "  '@BankofVol It comes down to 2008 NATO summit. Putin was their and NATO started the process of allowing Georgia and Ukraine in. He said that was his red line. Now, democratic countries should be allowed to make their own alliances, but Putin invaded Georgia and now Ukraine, like he promised.']]"
      ]
     },
     "execution_count": 8,
     "metadata": {},
     "output_type": "execute_result"
    }
   ],
   "source": [
    "response.json()[6]"
   ]
  },
  {
   "cell_type": "code",
   "execution_count": null,
   "id": "b7bf4075",
   "metadata": {},
   "outputs": [],
   "source": []
  },
  {
   "cell_type": "code",
   "execution_count": null,
   "id": "fa910fe6",
   "metadata": {},
   "outputs": [],
   "source": []
  },
  {
   "cell_type": "code",
   "execution_count": null,
   "id": "115a7271",
   "metadata": {},
   "outputs": [],
   "source": []
  },
  {
   "cell_type": "code",
   "execution_count": null,
   "id": "5711261b",
   "metadata": {},
   "outputs": [],
   "source": []
  },
  {
   "cell_type": "code",
   "execution_count": null,
   "id": "95f3230c",
   "metadata": {},
   "outputs": [],
   "source": []
  },
  {
   "cell_type": "code",
   "execution_count": null,
   "id": "3e8dfb2e",
   "metadata": {},
   "outputs": [],
   "source": []
  },
  {
   "cell_type": "code",
   "execution_count": null,
   "id": "6e599b69",
   "metadata": {},
   "outputs": [],
   "source": [
    "dict_df=response.json()[\"DataFrame\"]\n",
    "\n",
    "df=pd.DataFrame()\n",
    "vector1=response.json()[\"Visualisation\"][1]\n",
    "vector2=response.json()[\"Visualisation\"][2]\n",
    "vector3=response.json()[\"Visualisation\"][3]\n",
    "size_=response.json()[\"Visualisation\"][4]\n",
    "df[\"Tweet\"]=dict_df[\"Tweet\"].values()\n",
    "df[\"vector1\"]=vector1\n",
    "df[\"vector2\"]=vector2\n",
    "df[\"vector3\"]=vector3\n",
    "df[\"size_\"]=size_"
   ]
  },
  {
   "cell_type": "code",
   "execution_count": null,
   "id": "9d678e4e",
   "metadata": {},
   "outputs": [],
   "source": [
    "df"
   ]
  },
  {
   "cell_type": "code",
   "execution_count": null,
   "id": "157257f6",
   "metadata": {},
   "outputs": [],
   "source": [
    "df=pd.DataFrame()"
   ]
  },
  {
   "cell_type": "code",
   "execution_count": null,
   "id": "2cfc22e9",
   "metadata": {},
   "outputs": [],
   "source": [
    "dict_df[\"Tweet\"].values()"
   ]
  },
  {
   "cell_type": "code",
   "execution_count": null,
   "id": "43d2db3a",
   "metadata": {},
   "outputs": [],
   "source": [
    "vector2=response.json()[\"Visualisation\"][2]\n",
    "vector3=response.json()[\"Visualisation\"][3]\n",
    "size_=response.json()[\"Visualisation\"][4]"
   ]
  },
  {
   "cell_type": "code",
   "execution_count": null,
   "id": "71fe3b3f",
   "metadata": {},
   "outputs": [],
   "source": [
    "df[\"Tweet\"]=dict_df[\"Tweet\"].values()"
   ]
  },
  {
   "cell_type": "code",
   "execution_count": null,
   "id": "c199c2e4",
   "metadata": {},
   "outputs": [],
   "source": [
    "df[\"vector1\"]=vector1\n",
    "df[\"vector2\"]=vector2\n",
    "df[\"vector3\"]=vector3\n",
    "df[\"size_\"]=size_\n",
    "\n"
   ]
  },
  {
   "cell_type": "code",
   "execution_count": null,
   "id": "0db2b30c",
   "metadata": {},
   "outputs": [],
   "source": [
    "response.json()"
   ]
  },
  {
   "cell_type": "code",
   "execution_count": null,
   "id": "737664b2",
   "metadata": {},
   "outputs": [],
   "source": [
    "vector2=response.json()[\"Visualisation\"][2]\n",
    "vector3=response.json()[\"Visualisation\"][3]\n",
    "size_=response.json()[\"Visualisation\"][4]\n"
   ]
  },
  {
   "cell_type": "code",
   "execution_count": null,
   "id": "f2eecc9b",
   "metadata": {},
   "outputs": [],
   "source": []
  }
 ],
 "metadata": {
  "kernelspec": {
   "display_name": "Python 3 (ipykernel)",
   "language": "python",
   "name": "python3"
  },
  "language_info": {
   "codemirror_mode": {
    "name": "ipython",
    "version": 3
   },
   "file_extension": ".py",
   "mimetype": "text/x-python",
   "name": "python",
   "nbconvert_exporter": "python",
   "pygments_lexer": "ipython3",
   "version": "3.8.12"
  },
  "toc": {
   "base_numbering": 1,
   "nav_menu": {},
   "number_sections": true,
   "sideBar": true,
   "skip_h1_title": false,
   "title_cell": "Table of Contents",
   "title_sidebar": "Contents",
   "toc_cell": false,
   "toc_position": {},
   "toc_section_display": true,
   "toc_window_display": false
  }
 },
 "nbformat": 4,
 "nbformat_minor": 5
}
