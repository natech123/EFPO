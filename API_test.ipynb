{
 "cells": [
  {
   "cell_type": "code",
   "execution_count": 31,
   "id": "a7898736",
   "metadata": {},
   "outputs": [
    {
     "name": "stdout",
     "output_type": "stream",
     "text": [
      "The autoreload extension is already loaded. To reload it, use:\n",
      "  %reload_ext autoreload\n"
     ]
    }
   ],
   "source": [
    "%load_ext autoreload\n",
    "%autoreload 2"
   ]
  },
  {
   "cell_type": "code",
   "execution_count": 32,
   "id": "8eeea20c",
   "metadata": {},
   "outputs": [],
   "source": [
    "import api\n",
    "import pandas as pd"
   ]
  },
  {
   "cell_type": "code",
   "execution_count": 33,
   "id": "5387ea8f",
   "metadata": {},
   "outputs": [
    {
     "name": "stderr",
     "output_type": "stream",
     "text": [
      "2022-06-27 11:38:00,503 - top2vec - INFO - Pre-processing documents for training\n",
      "INFO:top2vec:Pre-processing documents for training\n",
      "/home/aipen/.pyenv/versions/3.8.12/envs/lewagon/lib/python3.8/site-packages/sklearn/utils/deprecation.py:87: FutureWarning: Function get_feature_names is deprecated; get_feature_names is deprecated in 1.0 and will be removed in 1.2. Please use get_feature_names_out instead.\n",
      "  warnings.warn(msg, category=FutureWarning)\n",
      "2022-06-27 11:38:00,516 - top2vec - INFO - Downloading universal-sentence-encoder model\n",
      "INFO:top2vec:Downloading universal-sentence-encoder model\n"
     ]
    },
    {
     "name": "stdout",
     "output_type": "stream",
     "text": [
      "Index(['Tweet', 'Lang'], dtype='object')                                                  Tweet Lang\n",
      "0    We sense the alternative ending pay come into ...   en\n",
      "1    Comprovação por vídeo tem até do Will Smith de...   pt\n",
      "2    UPDATING SAG Awards: “CODA,” Will Smith, Jessi...   en\n",
      "3    RUSSELL MARTIN TIER\\n\\n1 - Korey Smith\\n\\nLove...   en\n",
      "4    Surpresa muito positiva o Will Smith. https://...   pt\n",
      "..                                                 ...  ...\n",
      "497  Here are the all important ball numbers for th...   en\n",
      "498  @Smith_Comets No and if there are 25 seconds t...   en\n",
      "499  🏴󠁧󠁢󠁥󠁮󠁧󠁿 𝐌𝐢𝐜𝐡𝐚𝐞𝐥 𝐒𝐦𝐢𝐭𝐡 🆚 𝐃𝐚𝐧𝐧𝐲 𝐍𝐨𝐩𝐩𝐞𝐫𝐭 🇳🇱\\n\\nWe...   en\n",
      "500  @domwriight Stop worrying Smith will win have ...   en\n",
      "501  Smith will win this with 50% effort. Big  chan...   en\n",
      "\n",
      "[502 rows x 2 columns]\n"
     ]
    },
    {
     "name": "stderr",
     "output_type": "stream",
     "text": [
      "2022-06-27 11:38:03,010 - top2vec - INFO - Creating joint document/word embedding\n",
      "INFO:top2vec:Creating joint document/word embedding\n",
      "2022-06-27 11:38:03,178 - top2vec - INFO - Creating lower dimension embedding of documents\n",
      "INFO:top2vec:Creating lower dimension embedding of documents\n",
      "2022-06-27 11:38:04,638 - top2vec - INFO - Finding dense areas of documents\n",
      "INFO:top2vec:Finding dense areas of documents\n",
      "2022-06-27 11:38:04,649 - top2vec - INFO - Finding topics\n",
      "INFO:top2vec:Finding topics\n"
     ]
    },
    {
     "name": "stdout",
     "output_type": "stream",
     "text": [
      "UMAP(learning_rate=0.1, n_components=3, n_epochs=10000, random_state=42, tqdm_kwds={'bar_format': '{desc}: {percentage:3.0f}%| {bar} {n_fmt}/{total_fmt} [{elapsed}]', 'desc': 'Epochs completed', 'disable': True}) <class 'umap.umap_.UMAP'>\n",
      "computation complete\n"
     ]
    }
   ],
   "source": [
    "result=api.predict(\"Will smith\",\"2021-01-01\",\"2022-03-07\",500)"
   ]
  },
  {
   "cell_type": "code",
   "execution_count": 30,
   "id": "49bd7a64",
   "metadata": {},
   "outputs": [],
   "source": [
    "from EFPO import sentiment_analysis"
   ]
  },
  {
   "cell_type": "code",
   "execution_count": null,
   "id": "1f7fd2f7",
   "metadata": {},
   "outputs": [],
   "source": []
  },
  {
   "cell_type": "code",
   "execution_count": 34,
   "id": "7d0ee71b",
   "metadata": {},
   "outputs": [
    {
     "data": {
      "text/plain": [
       "[['negative', 'negative', 'negative', 'negative', 'negative'],\n",
       " ['positive', 'negative', 'positive', 'neutral', 'neutral']]"
      ]
     },
     "execution_count": 34,
     "metadata": {},
     "output_type": "execute_result"
    }
   ],
   "source": [
    "result[7]"
   ]
  },
  {
   "cell_type": "code",
   "execution_count": 5,
   "id": "cc4f7afd",
   "metadata": {},
   "outputs": [
    {
     "data": {
      "text/plain": [
       "[['@kay_philk92 @aa9skillz Psg got this easily you good',\n",
       "  \"@purv05 @eman_philipp U will see that it's just modric that is finished when psg knock us out of ucl\",\n",
       "  '@PSG_English Still psg the best',\n",
       "  '@PsgRodrygoJrrr @RafaeLeao7 doesn‘t matter who is better, maignan is a beast an donnarumma made a bad choice by going to psg',\n",
       "  'Achraf Hakimi offers PSG fitness boost ahead of Real Madrid tie - Yardbarker https://t.co/BbCAhLysiy'],\n",
       " ['@PSG_English Shamless 😭',\n",
       "  '@PSG_English Shameless',\n",
       "  '@psg_milenova50 @EnglishIniesta9 Home???',\n",
       "  '@Real_Tmo35 @PSG_English I mean I do.',\n",
       "  '@Dimonc4ik77 @gigiodonna1 @tutiofifa @PSG_English @mrkipling100579 @rFUTMobile Beautiful 😍']]"
      ]
     },
     "execution_count": 5,
     "metadata": {},
     "output_type": "execute_result"
    }
   ],
   "source": [
    "result[6]"
   ]
  },
  {
   "cell_type": "code",
   "execution_count": 6,
   "id": "2c34e040",
   "metadata": {},
   "outputs": [
    {
     "data": {
      "text/plain": [
       "8"
      ]
     },
     "execution_count": 6,
     "metadata": {},
     "output_type": "execute_result"
    }
   ],
   "source": [
    "len(result)"
   ]
  },
  {
   "cell_type": "code",
   "execution_count": null,
   "id": "01726e82",
   "metadata": {},
   "outputs": [],
   "source": []
  },
  {
   "cell_type": "code",
   "execution_count": null,
   "id": "a13393bc",
   "metadata": {},
   "outputs": [],
   "source": []
  },
  {
   "cell_type": "code",
   "execution_count": null,
   "id": "f81c75e2",
   "metadata": {},
   "outputs": [],
   "source": []
  },
  {
   "cell_type": "code",
   "execution_count": null,
   "id": "f6b77022",
   "metadata": {},
   "outputs": [],
   "source": []
  },
  {
   "cell_type": "code",
   "execution_count": 7,
   "id": "c0a1fc7d",
   "metadata": {},
   "outputs": [],
   "source": [
    "from EFPO.the_almighty import *"
   ]
  },
  {
   "cell_type": "code",
   "execution_count": 8,
   "id": "9d756a42",
   "metadata": {},
   "outputs": [
    {
     "name": "stderr",
     "output_type": "stream",
     "text": [
      "2022-03-11 13:44:51,453 - top2vec - INFO - Pre-processing documents for training\n",
      "INFO:top2vec:Pre-processing documents for training\n",
      "/home/fung/.pyenv/versions/3.8.12/envs/EFPO/lib/python3.8/site-packages/sklearn/utils/deprecation.py:87: FutureWarning:\n",
      "\n",
      "Function get_feature_names is deprecated; get_feature_names is deprecated in 1.0 and will be removed in 1.2. Please use get_feature_names_out instead.\n",
      "\n",
      "2022-03-11 13:44:51,474 - top2vec - INFO - Downloading universal-sentence-encoder model\n",
      "INFO:top2vec:Downloading universal-sentence-encoder model\n"
     ]
    },
    {
     "name": "stdout",
     "output_type": "stream",
     "text": [
      "Index(['Tweet', 'Lang'], dtype='object')                                                  Tweet Lang\n",
      "0    @NickCeausescu @CTVNews that POS Victoria Nudl...   en\n",
      "1    @KyivIndependent Syrians don’t know sh)(&amp; ...   en\n",
      "2    Kourtney Kardashian, thousands others agree wi...   en\n",
      "3    @Darkness754 Sie kritisieren deutsches Politik...   de\n",
      "4    @marcorubio The only thing that make sense in ...   en\n",
      "..                                                 ...  ...\n",
      "497  Αγία Πετρούπολη \\n#Ουκρανία #Ukraine https://t...   el\n",
      "498  9.  Russia and the state of Ukraine.  People w...   en\n",
      "499  Interesting analysis by a former Russian forei...   en\n",
      "500  @JoeBiden tragic what is happening in Ukraine,...   en\n",
      "501  Putin is now resorting to asking Syria to help...   en\n",
      "\n",
      "[502 rows x 2 columns]\n"
     ]
    },
    {
     "name": "stderr",
     "output_type": "stream",
     "text": [
      "2022-03-11 13:44:54,126 - top2vec - INFO - Creating joint document/word embedding\n",
      "INFO:top2vec:Creating joint document/word embedding\n",
      "2022-03-11 13:44:54,333 - top2vec - INFO - Creating lower dimension embedding of documents\n",
      "INFO:top2vec:Creating lower dimension embedding of documents\n",
      "2022-03-11 13:44:55,882 - top2vec - INFO - Finding dense areas of documents\n",
      "INFO:top2vec:Finding dense areas of documents\n",
      "2022-03-11 13:44:55,893 - top2vec - INFO - Finding topics\n",
      "INFO:top2vec:Finding topics\n"
     ]
    }
   ],
   "source": [
    "model=EFPO_Model(\"Ukraine\",\"2022-03-01\",\"2022-03-07\",500)\n",
    "model.generate_data()\n",
    "model.top2vec_fit()"
   ]
  },
  {
   "cell_type": "code",
   "execution_count": 9,
   "id": "a1021b1e",
   "metadata": {},
   "outputs": [
    {
     "name": "stdout",
     "output_type": "stream",
     "text": [
      "UMAP(learning_rate=0.1, n_components=3, n_epochs=10000, random_state=42, tqdm_kwds={'bar_format': '{desc}: {percentage:3.0f}%| {bar} {n_fmt}/{total_fmt} [{elapsed}]', 'desc': 'Epochs completed', 'disable': True}) <class 'umap.umap_.UMAP'>\n",
      "                                                 Tweet\n",
      "0    [po, victoria, nudleman, deserves, forced, lab...\n",
      "1                  [syrian, ’, know, sh, amp, ukraine]\n",
      "2    [kourtney, kardashian, thousand, others, agree...\n",
      "4    [thing, make, sense, war, pushed, royal, thief...\n",
      "5    [would, ukraine, soldier, anywhere, near, russ...\n",
      "..                                                 ...\n",
      "496                                      [go, ukraine]\n",
      "498  [russia, state, ukraine, people, want, live, u...\n",
      "499  [interesting, analysis, former, russian, forei...\n",
      "500  [tragic, happening, ukraine, putin, war, crimi...\n",
      "501  [putin, resorting, asking, syria, help, fight,...\n",
      "\n",
      "[429 rows x 1 columns]\n",
      "                                                Tweet  \\\n",
      "0   @NickCeausescu @CTVNews that POS Victoria Nudl...   \n",
      "1   @KyivIndependent Syrians don’t know sh)(&amp; ...   \n",
      "2   Kourtney Kardashian, thousands others agree wi...   \n",
      "4   @marcorubio The only thing that make sense in ...   \n",
      "5   @lynseyaddario @afshinrattansi @nytimes Why wo...   \n",
      "7   Sting:  “I hope the Russians love their childr...   \n",
      "8   @e92sam @TheDemCoalition In Ukraine nothing wo...   \n",
      "9   @FerrisLasko @ViewsPlusNews @Liz_Cheney So you...   \n",
      "10  @KrmtDfrog @MollyJongFast On a global scale, t...   \n",
      "11  Why is Russia invading Ukraine?\\n\\nhttps://t.c...   \n",
      "\n",
      "                                      Tweet_sentiment  \n",
      "0   [po, victoria, nudleman, deserves, forced, lab...  \n",
      "1                 [syrian, ’, know, sh, amp, ukraine]  \n",
      "2   [kourtney, kardashian, thousand, others, agree...  \n",
      "4   [thing, make, sense, war, pushed, royal, thief...  \n",
      "5   [would, ukraine, soldier, anywhere, near, russ...  \n",
      "7   [sting, “, hope, russian, love, child, ”, forg...  \n",
      "8                 [ukraine, nothing, would, surprise]  \n",
      "9   [think, russia, want, ukraine, stay, nato, rea...  \n",
      "10  [global, scale, potential, loss, life, freedom...  \n",
      "11  [russia, invading, ukraine, standwithukraine, ...  \n"
     ]
    },
    {
     "ename": "InvalidArgument",
     "evalue": "400 The language fil is not supported for document_sentiment analysis.",
     "output_type": "error",
     "traceback": [
      "\u001b[0;31m---------------------------------------------------------------------------\u001b[0m",
      "\u001b[0;31m_InactiveRpcError\u001b[0m                         Traceback (most recent call last)",
      "File \u001b[0;32m~/.pyenv/versions/3.8.12/envs/EFPO/lib/python3.8/site-packages/google/api_core/grpc_helpers.py:66\u001b[0m, in \u001b[0;36m_wrap_unary_errors.<locals>.error_remapped_callable\u001b[0;34m(*args, **kwargs)\u001b[0m\n\u001b[1;32m     65\u001b[0m \u001b[38;5;28;01mtry\u001b[39;00m:\n\u001b[0;32m---> 66\u001b[0m     \u001b[38;5;28;01mreturn\u001b[39;00m \u001b[43mcallable_\u001b[49m\u001b[43m(\u001b[49m\u001b[38;5;241;43m*\u001b[39;49m\u001b[43margs\u001b[49m\u001b[43m,\u001b[49m\u001b[43m \u001b[49m\u001b[38;5;241;43m*\u001b[39;49m\u001b[38;5;241;43m*\u001b[39;49m\u001b[43mkwargs\u001b[49m\u001b[43m)\u001b[49m\n\u001b[1;32m     67\u001b[0m \u001b[38;5;28;01mexcept\u001b[39;00m grpc\u001b[38;5;241m.\u001b[39mRpcError \u001b[38;5;28;01mas\u001b[39;00m exc:\n",
      "File \u001b[0;32m~/.pyenv/versions/3.8.12/envs/EFPO/lib/python3.8/site-packages/grpc/_channel.py:946\u001b[0m, in \u001b[0;36m_UnaryUnaryMultiCallable.__call__\u001b[0;34m(self, request, timeout, metadata, credentials, wait_for_ready, compression)\u001b[0m\n\u001b[1;32m    944\u001b[0m state, call, \u001b[38;5;241m=\u001b[39m \u001b[38;5;28mself\u001b[39m\u001b[38;5;241m.\u001b[39m_blocking(request, timeout, metadata, credentials,\n\u001b[1;32m    945\u001b[0m                               wait_for_ready, compression)\n\u001b[0;32m--> 946\u001b[0m \u001b[38;5;28;01mreturn\u001b[39;00m \u001b[43m_end_unary_response_blocking\u001b[49m\u001b[43m(\u001b[49m\u001b[43mstate\u001b[49m\u001b[43m,\u001b[49m\u001b[43m \u001b[49m\u001b[43mcall\u001b[49m\u001b[43m,\u001b[49m\u001b[43m \u001b[49m\u001b[38;5;28;43;01mFalse\u001b[39;49;00m\u001b[43m,\u001b[49m\u001b[43m \u001b[49m\u001b[38;5;28;43;01mNone\u001b[39;49;00m\u001b[43m)\u001b[49m\n",
      "File \u001b[0;32m~/.pyenv/versions/3.8.12/envs/EFPO/lib/python3.8/site-packages/grpc/_channel.py:849\u001b[0m, in \u001b[0;36m_end_unary_response_blocking\u001b[0;34m(state, call, with_call, deadline)\u001b[0m\n\u001b[1;32m    848\u001b[0m \u001b[38;5;28;01melse\u001b[39;00m:\n\u001b[0;32m--> 849\u001b[0m     \u001b[38;5;28;01mraise\u001b[39;00m _InactiveRpcError(state)\n",
      "\u001b[0;31m_InactiveRpcError\u001b[0m: <_InactiveRpcError of RPC that terminated with:\n\tstatus = StatusCode.INVALID_ARGUMENT\n\tdetails = \"The language fil is not supported for document_sentiment analysis.\"\n\tdebug_error_string = \"{\"created\":\"@1646978023.753408956\",\"description\":\"Error received from peer ipv4:142.250.187.234:443\",\"file\":\"src/core/lib/surface/call.cc\",\"file_line\":903,\"grpc_message\":\"The language fil is not supported for document_sentiment analysis.\",\"grpc_status\":3}\"\n>",
      "\nThe above exception was the direct cause of the following exception:\n",
      "\u001b[0;31mInvalidArgument\u001b[0m                           Traceback (most recent call last)",
      "Input \u001b[0;32mIn [9]\u001b[0m, in \u001b[0;36m<cell line: 1>\u001b[0;34m()\u001b[0m\n\u001b[0;32m----> 1\u001b[0m \u001b[43mmodel\u001b[49m\u001b[38;5;241;43m.\u001b[39;49m\u001b[43mtop2vec_visualisation\u001b[49m\u001b[43m(\u001b[49m\u001b[43m)\u001b[49m\n",
      "File \u001b[0;32m~/code/natech123/EFPO/EFPO/the_almighty.py:95\u001b[0m, in \u001b[0;36mEFPO_Model.top2vec_visualisation\u001b[0;34m(self)\u001b[0m\n\u001b[1;32m     93\u001b[0m vector2\u001b[38;5;241m.\u001b[39mappend(\u001b[38;5;28mfloat\u001b[39m(umap_fit\u001b[38;5;241m.\u001b[39membedding_[j][\u001b[38;5;241m1\u001b[39m]))\n\u001b[1;32m     94\u001b[0m vector3\u001b[38;5;241m.\u001b[39mappend(\u001b[38;5;28mfloat\u001b[39m(umap_fit\u001b[38;5;241m.\u001b[39membedding_[j][\u001b[38;5;241m2\u001b[39m]))\n\u001b[0;32m---> 95\u001b[0m sentiment\u001b[38;5;241m.\u001b[39mappend(\u001b[43mSentiment_Analysis\u001b[49m\u001b[38;5;241;43m.\u001b[39;49m\u001b[43mgoogle\u001b[49m\u001b[43m(\u001b[49m\u001b[38;5;28;43mself\u001b[39;49m\u001b[38;5;241;43m.\u001b[39;49m\u001b[43mdf\u001b[49m\u001b[43m[\u001b[49m\u001b[38;5;124;43m\"\u001b[39;49m\u001b[38;5;124;43mTweet_sentiment\u001b[39;49m\u001b[38;5;124;43m\"\u001b[39;49m\u001b[43m]\u001b[49m\u001b[38;5;241;43m.\u001b[39;49m\u001b[43miloc\u001b[49m\u001b[43m[\u001b[49m\u001b[43mj\u001b[49m\u001b[43m]\u001b[49m\u001b[43m)\u001b[49m)\n\u001b[1;32m     97\u001b[0m size_\u001b[38;5;241m.\u001b[39mappend(\u001b[38;5;241m1\u001b[39m)\n\u001b[1;32m     98\u001b[0m \u001b[38;5;28;01mif\u001b[39;00m index \u001b[38;5;241m<\u001b[39m \u001b[38;5;241m5\u001b[39m:\n",
      "File \u001b[0;32m~/code/natech123/EFPO/EFPO/sentiment_analysis.py:123\u001b[0m, in \u001b[0;36mSentiment_Analysis.google\u001b[0;34m(x)\u001b[0m\n\u001b[1;32m    121\u001b[0m document \u001b[38;5;241m=\u001b[39m {\u001b[38;5;124m\"\u001b[39m\u001b[38;5;124mcontent\u001b[39m\u001b[38;5;124m\"\u001b[39m: x, \u001b[38;5;124m\"\u001b[39m\u001b[38;5;124mtype_\u001b[39m\u001b[38;5;124m\"\u001b[39m: type_}\u001b[38;5;66;03m#, \"language\": language}\u001b[39;00m\n\u001b[1;32m    122\u001b[0m encoding_type \u001b[38;5;241m=\u001b[39m language_v1\u001b[38;5;241m.\u001b[39mEncodingType\u001b[38;5;241m.\u001b[39mUTF8\n\u001b[0;32m--> 123\u001b[0m response \u001b[38;5;241m=\u001b[39m \u001b[43mclient\u001b[49m\u001b[38;5;241;43m.\u001b[39;49m\u001b[43manalyze_sentiment\u001b[49m\u001b[43m(\u001b[49m\u001b[43mrequest\u001b[49m\u001b[43m \u001b[49m\u001b[38;5;241;43m=\u001b[39;49m\u001b[43m \u001b[49m\u001b[43m{\u001b[49m\u001b[38;5;124;43m'\u001b[39;49m\u001b[38;5;124;43mdocument\u001b[39;49m\u001b[38;5;124;43m'\u001b[39;49m\u001b[43m:\u001b[49m\u001b[43m \u001b[49m\u001b[43mdocument\u001b[49m\u001b[43m,\u001b[49m\u001b[43m \u001b[49m\u001b[38;5;124;43m'\u001b[39;49m\u001b[38;5;124;43mencoding_type\u001b[39;49m\u001b[38;5;124;43m'\u001b[39;49m\u001b[43m:\u001b[49m\u001b[43m \u001b[49m\u001b[43mencoding_type\u001b[49m\u001b[43m}\u001b[49m\u001b[43m)\u001b[49m\n\u001b[1;32m    124\u001b[0m \u001b[38;5;28;01mif\u001b[39;00m response\u001b[38;5;241m.\u001b[39mdocument_sentiment\u001b[38;5;241m.\u001b[39mscore \u001b[38;5;241m>\u001b[39m \u001b[38;5;241m0.33\u001b[39m:\n\u001b[1;32m    125\u001b[0m     \u001b[38;5;28;01mreturn\u001b[39;00m \u001b[38;5;124m\"\u001b[39m\u001b[38;5;124mpositive\u001b[39m\u001b[38;5;124m\"\u001b[39m\n",
      "File \u001b[0;32m~/.pyenv/versions/3.8.12/envs/EFPO/lib/python3.8/site-packages/google/cloud/language_v1/services/language_service/client.py:477\u001b[0m, in \u001b[0;36mLanguageServiceClient.analyze_sentiment\u001b[0;34m(self, request, document, encoding_type, retry, timeout, metadata)\u001b[0m\n\u001b[1;32m    474\u001b[0m rpc \u001b[38;5;241m=\u001b[39m \u001b[38;5;28mself\u001b[39m\u001b[38;5;241m.\u001b[39m_transport\u001b[38;5;241m.\u001b[39m_wrapped_methods[\u001b[38;5;28mself\u001b[39m\u001b[38;5;241m.\u001b[39m_transport\u001b[38;5;241m.\u001b[39manalyze_sentiment]\n\u001b[1;32m    476\u001b[0m \u001b[38;5;66;03m# Send the request.\u001b[39;00m\n\u001b[0;32m--> 477\u001b[0m response \u001b[38;5;241m=\u001b[39m \u001b[43mrpc\u001b[49m\u001b[43m(\u001b[49m\u001b[43mrequest\u001b[49m\u001b[43m,\u001b[49m\u001b[43m \u001b[49m\u001b[43mretry\u001b[49m\u001b[38;5;241;43m=\u001b[39;49m\u001b[43mretry\u001b[49m\u001b[43m,\u001b[49m\u001b[43m \u001b[49m\u001b[43mtimeout\u001b[49m\u001b[38;5;241;43m=\u001b[39;49m\u001b[43mtimeout\u001b[49m\u001b[43m,\u001b[49m\u001b[43m \u001b[49m\u001b[43mmetadata\u001b[49m\u001b[38;5;241;43m=\u001b[39;49m\u001b[43mmetadata\u001b[49m\u001b[43m,\u001b[49m\u001b[43m)\u001b[49m\n\u001b[1;32m    479\u001b[0m \u001b[38;5;66;03m# Done; return the response.\u001b[39;00m\n\u001b[1;32m    480\u001b[0m \u001b[38;5;28;01mreturn\u001b[39;00m response\n",
      "File \u001b[0;32m~/.pyenv/versions/3.8.12/envs/EFPO/lib/python3.8/site-packages/google/api_core/gapic_v1/method.py:154\u001b[0m, in \u001b[0;36m_GapicCallable.__call__\u001b[0;34m(self, timeout, retry, *args, **kwargs)\u001b[0m\n\u001b[1;32m    151\u001b[0m     metadata\u001b[38;5;241m.\u001b[39mextend(\u001b[38;5;28mself\u001b[39m\u001b[38;5;241m.\u001b[39m_metadata)\n\u001b[1;32m    152\u001b[0m     kwargs[\u001b[38;5;124m\"\u001b[39m\u001b[38;5;124mmetadata\u001b[39m\u001b[38;5;124m\"\u001b[39m] \u001b[38;5;241m=\u001b[39m metadata\n\u001b[0;32m--> 154\u001b[0m \u001b[38;5;28;01mreturn\u001b[39;00m \u001b[43mwrapped_func\u001b[49m\u001b[43m(\u001b[49m\u001b[38;5;241;43m*\u001b[39;49m\u001b[43margs\u001b[49m\u001b[43m,\u001b[49m\u001b[43m \u001b[49m\u001b[38;5;241;43m*\u001b[39;49m\u001b[38;5;241;43m*\u001b[39;49m\u001b[43mkwargs\u001b[49m\u001b[43m)\u001b[49m\n",
      "File \u001b[0;32m~/.pyenv/versions/3.8.12/envs/EFPO/lib/python3.8/site-packages/google/api_core/retry.py:283\u001b[0m, in \u001b[0;36mRetry.__call__.<locals>.retry_wrapped_func\u001b[0;34m(*args, **kwargs)\u001b[0m\n\u001b[1;32m    279\u001b[0m target \u001b[38;5;241m=\u001b[39m functools\u001b[38;5;241m.\u001b[39mpartial(func, \u001b[38;5;241m*\u001b[39margs, \u001b[38;5;241m*\u001b[39m\u001b[38;5;241m*\u001b[39mkwargs)\n\u001b[1;32m    280\u001b[0m sleep_generator \u001b[38;5;241m=\u001b[39m exponential_sleep_generator(\n\u001b[1;32m    281\u001b[0m     \u001b[38;5;28mself\u001b[39m\u001b[38;5;241m.\u001b[39m_initial, \u001b[38;5;28mself\u001b[39m\u001b[38;5;241m.\u001b[39m_maximum, multiplier\u001b[38;5;241m=\u001b[39m\u001b[38;5;28mself\u001b[39m\u001b[38;5;241m.\u001b[39m_multiplier\n\u001b[1;32m    282\u001b[0m )\n\u001b[0;32m--> 283\u001b[0m \u001b[38;5;28;01mreturn\u001b[39;00m \u001b[43mretry_target\u001b[49m\u001b[43m(\u001b[49m\n\u001b[1;32m    284\u001b[0m \u001b[43m    \u001b[49m\u001b[43mtarget\u001b[49m\u001b[43m,\u001b[49m\n\u001b[1;32m    285\u001b[0m \u001b[43m    \u001b[49m\u001b[38;5;28;43mself\u001b[39;49m\u001b[38;5;241;43m.\u001b[39;49m\u001b[43m_predicate\u001b[49m\u001b[43m,\u001b[49m\n\u001b[1;32m    286\u001b[0m \u001b[43m    \u001b[49m\u001b[43msleep_generator\u001b[49m\u001b[43m,\u001b[49m\n\u001b[1;32m    287\u001b[0m \u001b[43m    \u001b[49m\u001b[38;5;28;43mself\u001b[39;49m\u001b[38;5;241;43m.\u001b[39;49m\u001b[43m_deadline\u001b[49m\u001b[43m,\u001b[49m\n\u001b[1;32m    288\u001b[0m \u001b[43m    \u001b[49m\u001b[43mon_error\u001b[49m\u001b[38;5;241;43m=\u001b[39;49m\u001b[43mon_error\u001b[49m\u001b[43m,\u001b[49m\n\u001b[1;32m    289\u001b[0m \u001b[43m\u001b[49m\u001b[43m)\u001b[49m\n",
      "File \u001b[0;32m~/.pyenv/versions/3.8.12/envs/EFPO/lib/python3.8/site-packages/google/api_core/retry.py:190\u001b[0m, in \u001b[0;36mretry_target\u001b[0;34m(target, predicate, sleep_generator, deadline, on_error)\u001b[0m\n\u001b[1;32m    188\u001b[0m \u001b[38;5;28;01mfor\u001b[39;00m sleep \u001b[38;5;129;01min\u001b[39;00m sleep_generator:\n\u001b[1;32m    189\u001b[0m     \u001b[38;5;28;01mtry\u001b[39;00m:\n\u001b[0;32m--> 190\u001b[0m         \u001b[38;5;28;01mreturn\u001b[39;00m \u001b[43mtarget\u001b[49m\u001b[43m(\u001b[49m\u001b[43m)\u001b[49m\n\u001b[1;32m    192\u001b[0m     \u001b[38;5;66;03m# pylint: disable=broad-except\u001b[39;00m\n\u001b[1;32m    193\u001b[0m     \u001b[38;5;66;03m# This function explicitly must deal with broad exceptions.\u001b[39;00m\n\u001b[1;32m    194\u001b[0m     \u001b[38;5;28;01mexcept\u001b[39;00m \u001b[38;5;167;01mException\u001b[39;00m \u001b[38;5;28;01mas\u001b[39;00m exc:\n",
      "File \u001b[0;32m~/.pyenv/versions/3.8.12/envs/EFPO/lib/python3.8/site-packages/google/api_core/grpc_helpers.py:68\u001b[0m, in \u001b[0;36m_wrap_unary_errors.<locals>.error_remapped_callable\u001b[0;34m(*args, **kwargs)\u001b[0m\n\u001b[1;32m     66\u001b[0m     \u001b[38;5;28;01mreturn\u001b[39;00m callable_(\u001b[38;5;241m*\u001b[39margs, \u001b[38;5;241m*\u001b[39m\u001b[38;5;241m*\u001b[39mkwargs)\n\u001b[1;32m     67\u001b[0m \u001b[38;5;28;01mexcept\u001b[39;00m grpc\u001b[38;5;241m.\u001b[39mRpcError \u001b[38;5;28;01mas\u001b[39;00m exc:\n\u001b[0;32m---> 68\u001b[0m     \u001b[38;5;28;01mraise\u001b[39;00m exceptions\u001b[38;5;241m.\u001b[39mfrom_grpc_error(exc) \u001b[38;5;28;01mfrom\u001b[39;00m \u001b[38;5;21;01mexc\u001b[39;00m\n",
      "\u001b[0;31mInvalidArgument\u001b[0m: 400 The language fil is not supported for document_sentiment analysis."
     ]
    }
   ],
   "source": [
    "model.top2vec_visualisation()"
   ]
  },
  {
   "cell_type": "code",
   "execution_count": null,
   "id": "51a7c358",
   "metadata": {},
   "outputs": [],
   "source": []
  },
  {
   "cell_type": "code",
   "execution_count": null,
   "id": "ac908f54",
   "metadata": {},
   "outputs": [],
   "source": []
  },
  {
   "cell_type": "code",
   "execution_count": null,
   "id": "768bcac6",
   "metadata": {},
   "outputs": [],
   "source": []
  },
  {
   "cell_type": "code",
   "execution_count": null,
   "id": "545b0f51",
   "metadata": {},
   "outputs": [],
   "source": []
  },
  {
   "cell_type": "code",
   "execution_count": null,
   "id": "61b49182",
   "metadata": {},
   "outputs": [],
   "source": [
    "import pandas as pd"
   ]
  },
  {
   "cell_type": "code",
   "execution_count": null,
   "id": "28db935b",
   "metadata": {},
   "outputs": [],
   "source": [
    "import requests"
   ]
  },
  {
   "cell_type": "code",
   "execution_count": null,
   "id": "8de875c1",
   "metadata": {},
   "outputs": [],
   "source": [
    "param={\"search\":\"Ukraine\",\"date_beg\":\"2022-03-01\",\"date_end\":\"2022-03-07\",\"number\":500}\n",
    "\n",
    "response=requests.get(\"https://efpoimagename13-4n5leuorga-ew.a.run.app\",params=param)\n",
    "\n"
   ]
  },
  {
   "cell_type": "code",
   "execution_count": null,
   "id": "d9c25856",
   "metadata": {},
   "outputs": [],
   "source": [
    "response.json()[7]"
   ]
  },
  {
   "cell_type": "code",
   "execution_count": null,
   "id": "cf821142",
   "metadata": {},
   "outputs": [],
   "source": [
    "response.json()[6]"
   ]
  },
  {
   "cell_type": "code",
   "execution_count": null,
   "id": "b7bf4075",
   "metadata": {},
   "outputs": [],
   "source": []
  },
  {
   "cell_type": "code",
   "execution_count": null,
   "id": "fa910fe6",
   "metadata": {},
   "outputs": [],
   "source": []
  },
  {
   "cell_type": "code",
   "execution_count": null,
   "id": "115a7271",
   "metadata": {},
   "outputs": [],
   "source": []
  },
  {
   "cell_type": "code",
   "execution_count": null,
   "id": "5711261b",
   "metadata": {},
   "outputs": [],
   "source": []
  },
  {
   "cell_type": "code",
   "execution_count": null,
   "id": "95f3230c",
   "metadata": {},
   "outputs": [],
   "source": []
  },
  {
   "cell_type": "code",
   "execution_count": null,
   "id": "3e8dfb2e",
   "metadata": {},
   "outputs": [],
   "source": []
  },
  {
   "cell_type": "code",
   "execution_count": null,
   "id": "6e599b69",
   "metadata": {},
   "outputs": [],
   "source": [
    "dict_df=response.json()[\"DataFrame\"]\n",
    "\n",
    "df=pd.DataFrame()\n",
    "vector1=response.json()[\"Visualisation\"][1]\n",
    "vector2=response.json()[\"Visualisation\"][2]\n",
    "vector3=response.json()[\"Visualisation\"][3]\n",
    "size_=response.json()[\"Visualisation\"][4]\n",
    "df[\"Tweet\"]=dict_df[\"Tweet\"].values()\n",
    "df[\"vector1\"]=vector1\n",
    "df[\"vector2\"]=vector2\n",
    "df[\"vector3\"]=vector3\n",
    "df[\"size_\"]=size_"
   ]
  },
  {
   "cell_type": "code",
   "execution_count": null,
   "id": "9d678e4e",
   "metadata": {},
   "outputs": [],
   "source": [
    "df"
   ]
  },
  {
   "cell_type": "code",
   "execution_count": null,
   "id": "157257f6",
   "metadata": {},
   "outputs": [],
   "source": [
    "df=pd.DataFrame()"
   ]
  },
  {
   "cell_type": "code",
   "execution_count": null,
   "id": "2cfc22e9",
   "metadata": {},
   "outputs": [],
   "source": [
    "dict_df[\"Tweet\"].values()"
   ]
  },
  {
   "cell_type": "code",
   "execution_count": null,
   "id": "43d2db3a",
   "metadata": {},
   "outputs": [],
   "source": [
    "vector2=response.json()[\"Visualisation\"][2]\n",
    "vector3=response.json()[\"Visualisation\"][3]\n",
    "size_=response.json()[\"Visualisation\"][4]"
   ]
  },
  {
   "cell_type": "code",
   "execution_count": null,
   "id": "71fe3b3f",
   "metadata": {},
   "outputs": [],
   "source": [
    "df[\"Tweet\"]=dict_df[\"Tweet\"].values()"
   ]
  },
  {
   "cell_type": "code",
   "execution_count": null,
   "id": "c199c2e4",
   "metadata": {},
   "outputs": [],
   "source": [
    "df[\"vector1\"]=vector1\n",
    "df[\"vector2\"]=vector2\n",
    "df[\"vector3\"]=vector3\n",
    "df[\"size_\"]=size_\n",
    "\n"
   ]
  },
  {
   "cell_type": "code",
   "execution_count": null,
   "id": "0db2b30c",
   "metadata": {},
   "outputs": [],
   "source": [
    "response.json()"
   ]
  },
  {
   "cell_type": "code",
   "execution_count": null,
   "id": "737664b2",
   "metadata": {},
   "outputs": [],
   "source": [
    "vector2=response.json()[\"Visualisation\"][2]\n",
    "vector3=response.json()[\"Visualisation\"][3]\n",
    "size_=response.json()[\"Visualisation\"][4]\n"
   ]
  },
  {
   "cell_type": "code",
   "execution_count": null,
   "id": "f2eecc9b",
   "metadata": {},
   "outputs": [],
   "source": []
  }
 ],
 "metadata": {
  "kernelspec": {
   "display_name": "Python 3 (ipykernel)",
   "language": "python",
   "name": "python3"
  },
  "language_info": {
   "codemirror_mode": {
    "name": "ipython",
    "version": 3
   },
   "file_extension": ".py",
   "mimetype": "text/x-python",
   "name": "python",
   "nbconvert_exporter": "python",
   "pygments_lexer": "ipython3",
   "version": "3.8.12"
  },
  "toc": {
   "base_numbering": 1,
   "nav_menu": {},
   "number_sections": true,
   "sideBar": true,
   "skip_h1_title": false,
   "title_cell": "Table of Contents",
   "title_sidebar": "Contents",
   "toc_cell": false,
   "toc_position": {},
   "toc_section_display": true,
   "toc_window_display": false
  }
 },
 "nbformat": 4,
 "nbformat_minor": 5
}
