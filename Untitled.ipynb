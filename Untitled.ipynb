{
 "cells": [
  {
   "cell_type": "code",
   "execution_count": 3,
   "id": "1d2281db",
   "metadata": {
    "ExecuteTime": {
     "end_time": "2022-03-01T17:48:52.575091Z",
     "start_time": "2022-03-01T17:48:52.542581Z"
    }
   },
   "outputs": [],
   "source": [
    "%load_ext autoreload\n",
    "%autoreload 2"
   ]
  },
  {
   "cell_type": "code",
   "execution_count": 4,
   "id": "988f5b67",
   "metadata": {
    "ExecuteTime": {
     "end_time": "2022-03-01T17:48:57.842819Z",
     "start_time": "2022-03-01T17:48:57.424721Z"
    }
   },
   "outputs": [],
   "source": [
    "import pandas as pd\n",
    "import numpy as np"
   ]
  },
  {
   "cell_type": "code",
   "execution_count": 5,
   "id": "44862f73",
   "metadata": {
    "ExecuteTime": {
     "end_time": "2022-03-01T17:49:01.116420Z",
     "start_time": "2022-03-01T17:49:01.041953Z"
    }
   },
   "outputs": [],
   "source": [
    "df = pd.read_csv(\"../../../Desktop/Twitter_Experiments/four_day_working_week.csv\")"
   ]
  },
  {
   "cell_type": "code",
   "execution_count": 6,
   "id": "269d02f9",
   "metadata": {
    "ExecuteTime": {
     "end_time": "2022-03-01T17:49:03.181191Z",
     "start_time": "2022-03-01T17:49:02.450247Z"
    }
   },
   "outputs": [],
   "source": [
    "from EFPO.preprocessing import Preprocessing "
   ]
  },
  {
   "cell_type": "code",
   "execution_count": 38,
   "id": "43ba39bf",
   "metadata": {
    "ExecuteTime": {
     "end_time": "2022-03-01T18:11:51.934791Z",
     "start_time": "2022-03-01T18:11:51.447694Z"
    }
   },
   "outputs": [],
   "source": [
    "clean_data = Preprocessing(df)"
   ]
  },
  {
   "cell_type": "code",
   "execution_count": 39,
   "id": "c2d884e5",
   "metadata": {
    "ExecuteTime": {
     "end_time": "2022-03-01T18:11:55.154901Z",
     "start_time": "2022-03-01T18:11:52.940536Z"
    }
   },
   "outputs": [],
   "source": [
    "clean_data.sentiment_analysis_preprocessing()"
   ]
  },
  {
   "cell_type": "code",
   "execution_count": 34,
   "id": "7856e239",
   "metadata": {
    "ExecuteTime": {
     "end_time": "2022-03-01T18:09:09.936512Z",
     "start_time": "2022-03-01T18:09:09.897239Z"
    }
   },
   "outputs": [
    {
     "data": {
      "text/plain": [
       "\"@joshsimmons work better for who? just do less, be less productive have more leisure time - the idea that a four day work week is a good idea for productivity reasons is silly - it's about freedom in the true sense the ability to dedicate more of your time to yourself and not those who pay u!\""
      ]
     },
     "execution_count": 34,
     "metadata": {},
     "output_type": "execute_result"
    }
   ],
   "source": [
    "df[\"Tweet\"][4].lower()"
   ]
  },
  {
   "cell_type": "code",
   "execution_count": 40,
   "id": "081f74b1",
   "metadata": {
    "ExecuteTime": {
     "end_time": "2022-03-01T18:12:02.605741Z",
     "start_time": "2022-03-01T18:12:02.563025Z"
    },
    "scrolled": true
   },
   "outputs": [
    {
     "data": {
      "text/html": [
       "<div>\n",
       "<style scoped>\n",
       "    .dataframe tbody tr th:only-of-type {\n",
       "        vertical-align: middle;\n",
       "    }\n",
       "\n",
       "    .dataframe tbody tr th {\n",
       "        vertical-align: top;\n",
       "    }\n",
       "\n",
       "    .dataframe thead th {\n",
       "        text-align: right;\n",
       "    }\n",
       "</style>\n",
       "<table border=\"1\" class=\"dataframe\">\n",
       "  <thead>\n",
       "    <tr style=\"text-align: right;\">\n",
       "      <th></th>\n",
       "      <th>Tweet</th>\n",
       "    </tr>\n",
       "  </thead>\n",
       "  <tbody>\n",
       "    <tr>\n",
       "      <th>0</th>\n",
       "      <td>[got, big, hope, four, day, work, week]</td>\n",
       "    </tr>\n",
       "    <tr>\n",
       "      <th>1</th>\n",
       "      <td>[spent, day, planning, quiet, cold, saturday, ...</td>\n",
       "    </tr>\n",
       "    <tr>\n",
       "      <th>2</th>\n",
       "      <td>[closest, thing, four, day, work, week, snow, ...</td>\n",
       "    </tr>\n",
       "    <tr>\n",
       "      <th>3</th>\n",
       "      <td>[curious, four, day, work, week, something, go...</td>\n",
       "    </tr>\n",
       "    <tr>\n",
       "      <th>4</th>\n",
       "      <td>[work, better, le, le, productive, leisure, ti...</td>\n",
       "    </tr>\n",
       "  </tbody>\n",
       "</table>\n",
       "</div>"
      ],
      "text/plain": [
       "                                               Tweet\n",
       "0            [got, big, hope, four, day, work, week]\n",
       "1  [spent, day, planning, quiet, cold, saturday, ...\n",
       "2  [closest, thing, four, day, work, week, snow, ...\n",
       "3  [curious, four, day, work, week, something, go...\n",
       "4  [work, better, le, le, productive, leisure, ti..."
      ]
     },
     "execution_count": 40,
     "metadata": {},
     "output_type": "execute_result"
    }
   ],
   "source": [
    "clean_data.df.head()"
   ]
  },
  {
   "cell_type": "code",
   "execution_count": 12,
   "id": "ad628800",
   "metadata": {},
   "outputs": [],
   "source": [
    "def rem_website(x):\n",
    "        # Remove HTTPS, imgs, and user tags\n",
    "        x = str(x)\n",
    "        x = re.sub('@[^\\s]+','',x)\n",
    "        x = re.sub('http[^\\s]+','',x)\n",
    "        return x"
   ]
  },
  {
   "cell_type": "code",
   "execution_count": 15,
   "id": "125f6b24",
   "metadata": {
    "scrolled": true
   },
   "outputs": [],
   "source": [
    "# df_new = df[[\"Tweet\"]].applymap(rem_website)"
   ]
  },
  {
   "cell_type": "code",
   "execution_count": 10,
   "id": "50ee1ce4",
   "metadata": {},
   "outputs": [],
   "source": [
    "import numpy as np"
   ]
  },
  {
   "cell_type": "code",
   "execution_count": 8,
   "id": "f3f4c244",
   "metadata": {},
   "outputs": [
    {
     "data": {
      "text/plain": [
       "0"
      ]
     },
     "execution_count": 8,
     "metadata": {},
     "output_type": "execute_result"
    }
   ],
   "source": [
    "df[\"Tweet\"].isnull().sum()"
   ]
  },
  {
   "cell_type": "code",
   "execution_count": 4,
   "id": "953e3265",
   "metadata": {},
   "outputs": [],
   "source": [
    "df.dropna(inplace=True)"
   ]
  },
  {
   "cell_type": "code",
   "execution_count": 15,
   "id": "d3d64916",
   "metadata": {},
   "outputs": [],
   "source": [
    "df[\"Tweet_c\"]=np.vectorize(rem_website)(df[\"Tweet\"])"
   ]
  },
  {
   "cell_type": "code",
   "execution_count": 14,
   "id": "5d11a9d3",
   "metadata": {},
   "outputs": [],
   "source": [
    "import re"
   ]
  },
  {
   "cell_type": "code",
   "execution_count": 16,
   "id": "d78b3a04",
   "metadata": {},
   "outputs": [
    {
     "data": {
      "text/plain": [
       "0          I've got big hopes for the four-day work week.\n",
       "1       Spent the day planning in the quiet of a cold ...\n",
       "2       The closest thing I have to a four day work we...\n",
       "3       We were curious: Is the four-day work week som...\n",
       "4        Work better for who? Just do less, be less pr...\n",
       "                              ...                        \n",
       "5877    The Four-Day Work Week Is Becoming Increasingl...\n",
       "5878    The Four-Day Work Week Is Becoming Increasingl...\n",
       "5879       the only way 2 stop it is with a #GeneralSt...\n",
       "5880    working a four day work week is incredible bec...\n",
       "5881                 ✌🏽i survived my four day work week✌🏽\n",
       "Name: Tweet_c, Length: 5880, dtype: object"
      ]
     },
     "execution_count": 16,
     "metadata": {},
     "output_type": "execute_result"
    }
   ],
   "source": [
    "df[[\"Tweet_c\"]]"
   ]
  },
  {
   "cell_type": "code",
   "execution_count": 12,
   "id": "5059e64c",
   "metadata": {
    "ExecuteTime": {
     "end_time": "2022-03-01T17:52:27.736355Z",
     "start_time": "2022-03-01T17:52:27.685952Z"
    }
   },
   "outputs": [],
   "source": [
    "from nltk.corpus import stopwords\n",
    "from nltk.tokenize import word_tokenize"
   ]
  },
  {
   "cell_type": "code",
   "execution_count": 13,
   "id": "b40bb50d",
   "metadata": {
    "ExecuteTime": {
     "end_time": "2022-03-01T17:53:02.673606Z",
     "start_time": "2022-03-01T17:53:02.630265Z"
    }
   },
   "outputs": [],
   "source": [
    "import ipdb"
   ]
  },
  {
   "cell_type": "code",
   "execution_count": 14,
   "id": "93e8734c",
   "metadata": {
    "ExecuteTime": {
     "end_time": "2022-03-01T17:53:39.942646Z",
     "start_time": "2022-03-01T17:53:39.906591Z"
    }
   },
   "outputs": [],
   "source": [
    "def rem_stopwords(x):\n",
    "        # Remove stopwords\n",
    "        stopw = stopwords.words('english')\n",
    "        keepwords = ['not',\n",
    "                'can',\n",
    "                \"don't\",\n",
    "                'couldn',\n",
    "                \"couldn't\",\n",
    "                'should',\n",
    "                'shouldn',\n",
    "                \"should've\",\n",
    "                \"won't\",\n",
    "                'but',\n",
    "                'mustn',\n",
    "                \"mustn't\",\n",
    "                'wouldn',\n",
    "                \"wouldn't\"]\n",
    "        stopwords2 = [i for i in stopw if i not in keepwords]\n",
    "\n",
    "        word_tokens = word_tokenize(x)\n",
    "\n",
    "        x = [w for w in word_tokens if not w in stopwords2]\n",
    "        ipdb.set_trace()\n",
    "        return x\n",
    "    "
   ]
  },
  {
   "cell_type": "code",
   "execution_count": 18,
   "id": "bcaea936",
   "metadata": {
    "ExecuteTime": {
     "end_time": "2022-03-01T17:54:44.304970Z",
     "start_time": "2022-03-01T17:54:44.267616Z"
    }
   },
   "outputs": [],
   "source": [
    "rando_tweet = df[\"Tweet\"][2]"
   ]
  },
  {
   "cell_type": "code",
   "execution_count": 19,
   "id": "3fc58938",
   "metadata": {
    "ExecuteTime": {
     "end_time": "2022-03-01T17:56:35.732552Z",
     "start_time": "2022-03-01T17:54:56.624609Z"
    }
   },
   "outputs": [
    {
     "name": "stdout",
     "output_type": "stream",
     "text": [
      "> \u001b[0;32m/var/folders/48/8swc7thd1_zdygm4hdwzdxx00000gq/T/ipykernel_11089/2608905903.py\u001b[0m(24)\u001b[0;36mrem_stopwords\u001b[0;34m()\u001b[0m\n",
      "\u001b[0;32m     23 \u001b[0;31m        \u001b[0mipdb\u001b[0m\u001b[0;34m.\u001b[0m\u001b[0mset_trace\u001b[0m\u001b[0;34m(\u001b[0m\u001b[0;34m)\u001b[0m\u001b[0;34m\u001b[0m\u001b[0;34m\u001b[0m\u001b[0m\n",
      "\u001b[0m\u001b[0;32m---> 24 \u001b[0;31m        \u001b[0;32mreturn\u001b[0m \u001b[0mx\u001b[0m\u001b[0;34m\u001b[0m\u001b[0;34m\u001b[0m\u001b[0m\n",
      "\u001b[0m\u001b[0;32m     25 \u001b[0;31m\u001b[0;34m\u001b[0m\u001b[0m\n",
      "\u001b[0m\n",
      "ipdb> x\n",
      "['The', 'closest', 'thing', 'I', 'four', 'day', 'work', 'week', 'snow', 'days', 'Fridays', '.', 'Keep', 'coming', 'mother', 'nature', '❄️☃️']\n",
      "--KeyboardInterrupt--\n",
      "\n",
      "KeyboardInterrupt: Interrupted by user\n"
     ]
    },
    {
     "data": {
      "text/plain": [
       "['The',\n",
       " 'closest',\n",
       " 'thing',\n",
       " 'I',\n",
       " 'four',\n",
       " 'day',\n",
       " 'work',\n",
       " 'week',\n",
       " 'snow',\n",
       " 'days',\n",
       " 'Fridays',\n",
       " '.',\n",
       " 'Keep',\n",
       " 'coming',\n",
       " 'mother',\n",
       " 'nature',\n",
       " '❄️☃️']"
      ]
     },
     "execution_count": 19,
     "metadata": {},
     "output_type": "execute_result"
    }
   ],
   "source": [
    "rem_stopwords(rando_tweet)"
   ]
  },
  {
   "cell_type": "code",
   "execution_count": null,
   "id": "93ea8def",
   "metadata": {},
   "outputs": [],
   "source": []
  }
 ],
 "metadata": {
  "kernelspec": {
   "display_name": "Python 3 (ipykernel)",
   "language": "python",
   "name": "python3"
  },
  "language_info": {
   "codemirror_mode": {
    "name": "ipython",
    "version": 3
   },
   "file_extension": ".py",
   "mimetype": "text/x-python",
   "name": "python",
   "nbconvert_exporter": "python",
   "pygments_lexer": "ipython3",
   "version": "3.8.12"
  },
  "toc": {
   "base_numbering": 1,
   "nav_menu": {},
   "number_sections": true,
   "sideBar": true,
   "skip_h1_title": false,
   "title_cell": "Table of Contents",
   "title_sidebar": "Contents",
   "toc_cell": false,
   "toc_position": {},
   "toc_section_display": true,
   "toc_window_display": true
  }
 },
 "nbformat": 4,
 "nbformat_minor": 5
}
