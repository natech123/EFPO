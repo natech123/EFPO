{
 "cells": [
  {
   "cell_type": "code",
   "execution_count": 1,
   "id": "d488446a",
   "metadata": {},
   "outputs": [
    {
     "name": "stderr",
     "output_type": "stream",
     "text": [
      "2022-03-02 17:48:55.713207: W tensorflow/stream_executor/platform/default/dso_loader.cc:64] Could not load dynamic library 'libcudart.so.11.0'; dlerror: libcudart.so.11.0: cannot open shared object file: No such file or directory\n",
      "2022-03-02 17:48:55.713263: I tensorflow/stream_executor/cuda/cudart_stub.cc:29] Ignore above cudart dlerror if you do not have a GPU set up on your machine.\n"
     ]
    }
   ],
   "source": [
    "from EFPO.top2vec import Top2Vec_Model"
   ]
  },
  {
   "cell_type": "code",
   "execution_count": 2,
   "id": "cc8b950d",
   "metadata": {
    "scrolled": true
   },
   "outputs": [],
   "source": [
    "model = Top2Vec_Model(\"web dev\", \"2022-01-01\", \"2022-03-01\", 500)"
   ]
  },
  {
   "cell_type": "code",
   "execution_count": 3,
   "id": "347e9c77",
   "metadata": {},
   "outputs": [
    {
     "name": "stderr",
     "output_type": "stream",
     "text": [
      "2022-03-02 17:49:38,639 - top2vec - INFO - Pre-processing documents for training\n",
      "/home/coolyo/.pyenv/versions/3.8.12/envs/EFPO/lib/python3.8/site-packages/sklearn/utils/deprecation.py:87: FutureWarning: Function get_feature_names is deprecated; get_feature_names is deprecated in 1.0 and will be removed in 1.2. Please use get_feature_names_out instead.\n",
      "  warnings.warn(msg, category=FutureWarning)\n",
      "2022-03-02 17:49:38,670 - top2vec - INFO - Downloading universal-sentence-encoder model\n",
      "2022-03-02 17:49:38.859306: E tensorflow/stream_executor/cuda/cuda_driver.cc:271] failed call to cuInit: UNKNOWN ERROR (304)\n",
      "2022-03-02 17:49:38.859366: I tensorflow/stream_executor/cuda/cuda_diagnostics.cc:156] kernel driver does not appear to be running on this host (DESKTOP-FBUNVMK): /proc/driver/nvidia/version does not exist\n",
      "2022-03-02 17:49:38.859675: I tensorflow/core/platform/cpu_feature_guard.cc:151] This TensorFlow binary is optimized with oneAPI Deep Neural Network Library (oneDNN) to use the following CPU instructions in performance-critical operations:  AVX2 FMA\n",
      "To enable them in other operations, rebuild TensorFlow with the appropriate compiler flags.\n",
      "2022-03-02 17:49:43,074 - top2vec - INFO - Creating joint document/word embedding\n",
      "INFO:top2vec:Creating joint document/word embedding\n",
      "2022-03-02 17:49:43,477 - top2vec - INFO - Creating lower dimension embedding of documents\n",
      "INFO:top2vec:Creating lower dimension embedding of documents\n",
      "2022-03-02 17:49:51,019 - top2vec - INFO - Finding dense areas of documents\n",
      "INFO:top2vec:Finding dense areas of documents\n",
      "2022-03-02 17:49:51,033 - top2vec - INFO - Finding topics\n",
      "INFO:top2vec:Finding topics\n"
     ]
    }
   ],
   "source": [
    "model.fit()"
   ]
  },
  {
   "cell_type": "code",
   "execution_count": 5,
   "id": "1cae1d4a",
   "metadata": {},
   "outputs": [],
   "source": [
    "noodle = model.model"
   ]
  },
  {
   "cell_type": "code",
   "execution_count": 9,
   "id": "c027b8f6",
   "metadata": {},
   "outputs": [
    {
     "data": {
      "text/plain": [
       "array(['webdev', 'webdesign', 'javascript', 'webdesigner', 'html',\n",
       "       'reactjs', 'css', 'frontend', 'wordpress', 'backend', 'js',\n",
       "       'ecommerce', 'web', 'coding', 'developer', 'seo', 'ux', 'react',\n",
       "       'programming', 'dev', 'python', 'website', 'webdevelopment',\n",
       "       'development', 'ui', 'code', 'tutorial', 'engineer',\n",
       "       'webdeveloper', 'mobile', 'websites', 'site', 'app', 'design',\n",
       "       'native', 'learning', 'software', 'content', 'build', 'internet',\n",
       "       'learn', 'amp', 'russian', 'application', 'project', 'started',\n",
       "       'remove', 'building', 'jobs', 'making'], dtype='<U14')"
      ]
     },
     "execution_count": 9,
     "metadata": {},
     "output_type": "execute_result"
    }
   ],
   "source": [
    "noodle.topic_words[0]"
   ]
  },
  {
   "cell_type": "code",
   "execution_count": null,
   "id": "bece6529",
   "metadata": {},
   "outputs": [],
   "source": []
  }
 ],
 "metadata": {
  "kernelspec": {
   "display_name": "Python 3 (ipykernel)",
   "language": "python",
   "name": "python3"
  },
  "language_info": {
   "codemirror_mode": {
    "name": "ipython",
    "version": 3
   },
   "file_extension": ".py",
   "mimetype": "text/x-python",
   "name": "python",
   "nbconvert_exporter": "python",
   "pygments_lexer": "ipython3",
   "version": "3.8.12"
  }
 },
 "nbformat": 4,
 "nbformat_minor": 5
}
