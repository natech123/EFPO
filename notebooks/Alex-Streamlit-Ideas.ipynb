{
 "cells": [
  {
   "cell_type": "markdown",
   "id": "fa59c4aa",
   "metadata": {},
   "source": [
    "# 💡 Streamlit App Ideas 💡"
   ]
  },
  {
   "cell_type": "markdown",
   "id": "c54711fb",
   "metadata": {},
   "source": [
    "A list of resources we could use for the front end of the Emotional Faces of Public Opinion App."
   ]
  },
  {
   "cell_type": "markdown",
   "id": "bb682ed9",
   "metadata": {},
   "source": [
    "## 🎛️ Creating an app with more than one page "
   ]
  },
  {
   "cell_type": "markdown",
   "id": "83152faf",
   "metadata": {},
   "source": [
    "👉 <a href='https://towardsdatascience.com/a-multi-page-interactive-dashboard-with-streamlit-and-plotly-c3182443871a'>Useful blog post</a> demonstrating how to implement a sidebar and a drop-down list to create an app with multiple pages.\n",
    "\n",
    "👉 <a href='http://ajstreamlit.herokuapp.com/'>Here</a> is a link to the web app, created in the post above, looks like."
   ]
  },
  {
   "cell_type": "markdown",
   "id": "7864c258",
   "metadata": {},
   "source": [
    "## 🖼️ Layout"
   ]
  },
  {
   "cell_type": "markdown",
   "id": "4061e0e0",
   "metadata": {
    "heading_collapsed": true
   },
   "source": [
    "### 🤲 Side-by-side\n",
    "👇 Below is a YouTube video demonstrating the use of columns to create a side-by-side layout "
   ]
  },
  {
   "cell_type": "code",
   "execution_count": 20,
   "id": "582b4731",
   "metadata": {
    "hidden": true
   },
   "outputs": [
    {
     "data": {
      "text/html": [
       "<iframe width=\"950\" height=\"410\" src=\"https://www.youtube.com/embed/0AhG53TCezg\" title=\"YouTube video player\" frameborder=\"0\" allow=\"accelerometer; autoplay; clipboard-write; encrypted-media; gyroscope; picture-in-picture\" allowfullscreen></iframe>"
      ],
      "text/plain": [
       "<IPython.core.display.HTML object>"
      ]
     },
     "execution_count": 20,
     "metadata": {},
     "output_type": "execute_result"
    }
   ],
   "source": [
    "from IPython.display import HTML\n",
    "HTML('<iframe width=\"950\" height=\"410\" src=\"https://www.youtube.com/embed/0AhG53TCezg\" title=\"YouTube video player\" frameborder=\"0\" allow=\"accelerometer; autoplay; clipboard-write; encrypted-media; gyroscope; picture-in-picture\" allowfullscreen></iframe>')"
   ]
  },
  {
   "cell_type": "markdown",
   "id": "0070a2c8",
   "metadata": {},
   "source": [
    "### 🏛️ Columns, containers and expanders.\n",
    "\n",
    "👉 <a href= 'https://blog.streamlit.io/introducing-new-layout-options-for-streamlit/'>Blog post by Streamlit</a> which illustrates how to create expanders which might be useful for our visualizations on the app."
   ]
  },
  {
   "cell_type": "markdown",
   "id": "6ab2f871",
   "metadata": {},
   "source": [
    "### Embedding TensorFlow projector into our app"
   ]
  },
  {
   "cell_type": "markdown",
   "id": "2c351f1f",
   "metadata": {},
   "source": [
    "I found this <a href='https://github.com/prakhar21/EmbedViz-Streamlit/blob/master/embedding_viz.py'>repo</a> which might prove useful."
   ]
  },
  {
   "cell_type": "markdown",
   "id": "f52fa6e1",
   "metadata": {
    "heading_collapsed": true
   },
   "source": [
    "## 🌈 Themes "
   ]
  },
  {
   "cell_type": "markdown",
   "id": "41d0049b",
   "metadata": {
    "hidden": true
   },
   "source": [
    "<a href='https://blog.streamlit.io/introducing-theming/'>Here</a> is a useful blog post for creating custom themes.  If we develop one ourselves, that would result in three possible choices for the user:\n",
    "<ol>\n",
    "    <li>Dark mode;</li>\n",
    "    <li>Light mode; or a</li>\n",
    "    <li>Custom theme designed by us.</li>\n",
    "</ol>\n",
    "\n",
    "⚠️ Things we need to decide:<br>\n",
    "    ❓ Which color palette do we want to incorporate into our design?  <a href='https://coolors.co/'>This site</a> could be useful to generate ideas.<br>\n",
    "    ❓ From there, we can pick out primary color, background color, text color, and secondary background color.<br>"
   ]
  },
  {
   "cell_type": "markdown",
   "id": "9aeb7320",
   "metadata": {
    "heading_collapsed": true
   },
   "source": [
    "## 📄 Generating a PDF for our results from the app "
   ]
  },
  {
   "cell_type": "markdown",
   "id": "a7be2d40",
   "metadata": {
    "hidden": true
   },
   "source": [
    "This should be possible.  As far as I'm aware, we need to create two things to make this happen:<br>\n",
    "1️⃣ A <a href='https://docs.streamlit.io/library/api-reference/widgets/st.download_button'>download button</a>; and<br>\n",
    "2️⃣ A <a href='https://discuss.streamlit.io/t/creating-a-pdf-file-generator/7613/2'>PDF generator</a><br>\n",
    "I believe this is very doable."
   ]
  },
  {
   "cell_type": "code",
   "execution_count": null,
   "id": "7615f856",
   "metadata": {
    "hidden": true
   },
   "outputs": [],
   "source": []
  }
 ],
 "metadata": {
  "kernelspec": {
   "display_name": "Python 3 (ipykernel)",
   "language": "python",
   "name": "python3"
  },
  "language_info": {
   "codemirror_mode": {
    "name": "ipython",
    "version": 3
   },
   "file_extension": ".py",
   "mimetype": "text/x-python",
   "name": "python",
   "nbconvert_exporter": "python",
   "pygments_lexer": "ipython3",
   "version": "3.8.12"
  },
  "toc": {
   "base_numbering": 1,
   "nav_menu": {},
   "number_sections": true,
   "sideBar": true,
   "skip_h1_title": false,
   "title_cell": "Table of Contents",
   "title_sidebar": "Contents",
   "toc_cell": false,
   "toc_position": {},
   "toc_section_display": true,
   "toc_window_display": false
  }
 },
 "nbformat": 4,
 "nbformat_minor": 5
}
